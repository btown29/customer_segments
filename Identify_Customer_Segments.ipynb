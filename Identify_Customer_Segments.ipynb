{
 "cells": [
  {
   "cell_type": "markdown",
   "metadata": {},
   "source": [
    "# Project: Identify Customer Segments\n",
    "\n",
    "In this project, you will apply unsupervised learning techniques to identify segments of the population that form the core customer base for a mail-order sales company in Germany. These segments can then be used to direct marketing campaigns towards audiences that will have the highest expected rate of returns. The data that you will use has been provided by our partners at Bertelsmann Arvato Analytics, and represents a real-life data science task.\n",
    "\n",
    "This notebook will help you complete this task by providing a framework within which you will perform your analysis steps. In each step of the project, you will see some text describing the subtask that you will perform, followed by one or more code cells for you to complete your work. **Feel free to add additional code and markdown cells as you go along so that you can explore everything in precise chunks.** The code cells provided in the base template will outline only the major tasks, and will usually not be enough to cover all of the minor tasks that comprise it.\n",
    "\n",
    "It should be noted that while there will be precise guidelines on how you should handle certain tasks in the project, there will also be places where an exact specification is not provided. **There will be times in the project where you will need to make and justify your own decisions on how to treat the data.** These are places where there may not be only one way to handle the data. In real-life tasks, there may be many valid ways to approach an analysis task. One of the most important things you can do is clearly document your approach so that other scientists can understand the decisions you've made.\n",
    "\n",
    "At the end of most sections, there will be a Markdown cell labeled **Discussion**. In these cells, you will report your findings for the completed section, as well as document the decisions that you made in your approach to each subtask. **Your project will be evaluated not just on the code used to complete the tasks outlined, but also your communication about your observations and conclusions at each stage.**"
   ]
  },
  {
   "cell_type": "code",
   "execution_count": 1,
   "metadata": {},
   "outputs": [
    {
     "data": {
      "text/plain": [
       "'\\nImport note: The classroom currently uses sklearn version 0.19.\\nIf you need to use an imputer, it is available in sklearn.preprocessing.Imputer,\\ninstead of sklearn.impute as in newer versions of sklearn.\\n'"
      ]
     },
     "execution_count": 1,
     "metadata": {},
     "output_type": "execute_result"
    }
   ],
   "source": [
    "# import libraries here; add more as necessary\n",
    "import numpy as np\n",
    "import pandas as pd\n",
    "import matplotlib.pyplot as plt\n",
    "import seaborn as sns\n",
    "\n",
    "# magic word for producing visualizations in notebook\n",
    "%matplotlib inline\n",
    "\n",
    "'''\n",
    "Import note: The classroom currently uses sklearn version 0.19.\n",
    "If you need to use an imputer, it is available in sklearn.preprocessing.Imputer,\n",
    "instead of sklearn.impute as in newer versions of sklearn.\n",
    "'''"
   ]
  },
  {
   "cell_type": "markdown",
   "metadata": {},
   "source": [
    "### Step 0: Load the Data\n",
    "\n",
    "There are four files associated with this project (not including this one):\n",
    "\n",
    "- `Udacity_AZDIAS_Subset.csv`: Demographics data for the general population of Germany; 891211 persons (rows) x 85 features (columns).\n",
    "- `Udacity_CUSTOMERS_Subset.csv`: Demographics data for customers of a mail-order company; 191652 persons (rows) x 85 features (columns).\n",
    "- `Data_Dictionary.md`: Detailed information file about the features in the provided datasets.\n",
    "- `AZDIAS_Feature_Summary.csv`: Summary of feature attributes for demographics data; 85 features (rows) x 4 columns\n",
    "\n",
    "Each row of the demographics files represents a single person, but also includes information outside of individuals, including information about their household, building, and neighborhood. You will use this information to cluster the general population into groups with similar demographic properties. Then, you will see how the people in the customers dataset fit into those created clusters. The hope here is that certain clusters are over-represented in the customers data, as compared to the general population; those over-represented clusters will be assumed to be part of the core userbase. This information can then be used for further applications, such as targeting for a marketing campaign.\n",
    "\n",
    "To start off with, load in the demographics data for the general population into a pandas DataFrame, and do the same for the feature attributes summary. Note for all of the `.csv` data files in this project: they're semicolon (`;`) delimited, so you'll need an additional argument in your [`read_csv()`](https://pandas.pydata.org/pandas-docs/stable/generated/pandas.read_csv.html) call to read in the data properly. Also, considering the size of the main dataset, it may take some time for it to load completely.\n",
    "\n",
    "Once the dataset is loaded, it's recommended that you take a little bit of time just browsing the general structure of the dataset and feature summary file. You'll be getting deep into the innards of the cleaning in the first major step of the project, so gaining some general familiarity can help you get your bearings."
   ]
  },
  {
   "cell_type": "code",
   "execution_count": 2,
   "metadata": {},
   "outputs": [],
   "source": [
    "# Load in the general demographics data.\n",
    "azdias = pd.read_csv('Udacity_AZDIAS_Subset.csv', delimiter=';')\n",
    "\n",
    "# Load in the feature summary file.\n",
    "feat_info = pd.read_csv('AZDIAS_Feature_Summary.csv', delimiter=';')"
   ]
  },
  {
   "cell_type": "code",
   "execution_count": 3,
   "metadata": {},
   "outputs": [
    {
     "name": "stdout",
     "output_type": "stream",
     "text": [
      "(Rows,columns) (891221, 85)\n"
     ]
    },
    {
     "data": {
      "text/html": [
       "<div>\n",
       "<style scoped>\n",
       "    .dataframe tbody tr th:only-of-type {\n",
       "        vertical-align: middle;\n",
       "    }\n",
       "\n",
       "    .dataframe tbody tr th {\n",
       "        vertical-align: top;\n",
       "    }\n",
       "\n",
       "    .dataframe thead th {\n",
       "        text-align: right;\n",
       "    }\n",
       "</style>\n",
       "<table border=\"1\" class=\"dataframe\">\n",
       "  <thead>\n",
       "    <tr style=\"text-align: right;\">\n",
       "      <th></th>\n",
       "      <th>AGER_TYP</th>\n",
       "      <th>ALTERSKATEGORIE_GROB</th>\n",
       "      <th>ANREDE_KZ</th>\n",
       "      <th>CJT_GESAMTTYP</th>\n",
       "      <th>FINANZ_MINIMALIST</th>\n",
       "      <th>FINANZ_SPARER</th>\n",
       "      <th>FINANZ_VORSORGER</th>\n",
       "      <th>FINANZ_ANLEGER</th>\n",
       "      <th>FINANZ_UNAUFFAELLIGER</th>\n",
       "      <th>FINANZ_HAUSBAUER</th>\n",
       "      <th>...</th>\n",
       "      <th>PLZ8_ANTG1</th>\n",
       "      <th>PLZ8_ANTG2</th>\n",
       "      <th>PLZ8_ANTG3</th>\n",
       "      <th>PLZ8_ANTG4</th>\n",
       "      <th>PLZ8_BAUMAX</th>\n",
       "      <th>PLZ8_HHZ</th>\n",
       "      <th>PLZ8_GBZ</th>\n",
       "      <th>ARBEIT</th>\n",
       "      <th>ORTSGR_KLS9</th>\n",
       "      <th>RELAT_AB</th>\n",
       "    </tr>\n",
       "  </thead>\n",
       "  <tbody>\n",
       "    <tr>\n",
       "      <th>0</th>\n",
       "      <td>-1</td>\n",
       "      <td>2</td>\n",
       "      <td>1</td>\n",
       "      <td>2.0</td>\n",
       "      <td>3</td>\n",
       "      <td>4</td>\n",
       "      <td>3</td>\n",
       "      <td>5</td>\n",
       "      <td>5</td>\n",
       "      <td>3</td>\n",
       "      <td>...</td>\n",
       "      <td>NaN</td>\n",
       "      <td>NaN</td>\n",
       "      <td>NaN</td>\n",
       "      <td>NaN</td>\n",
       "      <td>NaN</td>\n",
       "      <td>NaN</td>\n",
       "      <td>NaN</td>\n",
       "      <td>NaN</td>\n",
       "      <td>NaN</td>\n",
       "      <td>NaN</td>\n",
       "    </tr>\n",
       "    <tr>\n",
       "      <th>1</th>\n",
       "      <td>-1</td>\n",
       "      <td>1</td>\n",
       "      <td>2</td>\n",
       "      <td>5.0</td>\n",
       "      <td>1</td>\n",
       "      <td>5</td>\n",
       "      <td>2</td>\n",
       "      <td>5</td>\n",
       "      <td>4</td>\n",
       "      <td>5</td>\n",
       "      <td>...</td>\n",
       "      <td>2.0</td>\n",
       "      <td>3.0</td>\n",
       "      <td>2.0</td>\n",
       "      <td>1.0</td>\n",
       "      <td>1.0</td>\n",
       "      <td>5.0</td>\n",
       "      <td>4.0</td>\n",
       "      <td>3.0</td>\n",
       "      <td>5.0</td>\n",
       "      <td>4.0</td>\n",
       "    </tr>\n",
       "    <tr>\n",
       "      <th>2</th>\n",
       "      <td>-1</td>\n",
       "      <td>3</td>\n",
       "      <td>2</td>\n",
       "      <td>3.0</td>\n",
       "      <td>1</td>\n",
       "      <td>4</td>\n",
       "      <td>1</td>\n",
       "      <td>2</td>\n",
       "      <td>3</td>\n",
       "      <td>5</td>\n",
       "      <td>...</td>\n",
       "      <td>3.0</td>\n",
       "      <td>3.0</td>\n",
       "      <td>1.0</td>\n",
       "      <td>0.0</td>\n",
       "      <td>1.0</td>\n",
       "      <td>4.0</td>\n",
       "      <td>4.0</td>\n",
       "      <td>3.0</td>\n",
       "      <td>5.0</td>\n",
       "      <td>2.0</td>\n",
       "    </tr>\n",
       "    <tr>\n",
       "      <th>3</th>\n",
       "      <td>2</td>\n",
       "      <td>4</td>\n",
       "      <td>2</td>\n",
       "      <td>2.0</td>\n",
       "      <td>4</td>\n",
       "      <td>2</td>\n",
       "      <td>5</td>\n",
       "      <td>2</td>\n",
       "      <td>1</td>\n",
       "      <td>2</td>\n",
       "      <td>...</td>\n",
       "      <td>2.0</td>\n",
       "      <td>2.0</td>\n",
       "      <td>2.0</td>\n",
       "      <td>0.0</td>\n",
       "      <td>1.0</td>\n",
       "      <td>3.0</td>\n",
       "      <td>4.0</td>\n",
       "      <td>2.0</td>\n",
       "      <td>3.0</td>\n",
       "      <td>3.0</td>\n",
       "    </tr>\n",
       "    <tr>\n",
       "      <th>4</th>\n",
       "      <td>-1</td>\n",
       "      <td>3</td>\n",
       "      <td>1</td>\n",
       "      <td>5.0</td>\n",
       "      <td>4</td>\n",
       "      <td>3</td>\n",
       "      <td>4</td>\n",
       "      <td>1</td>\n",
       "      <td>3</td>\n",
       "      <td>2</td>\n",
       "      <td>...</td>\n",
       "      <td>2.0</td>\n",
       "      <td>4.0</td>\n",
       "      <td>2.0</td>\n",
       "      <td>1.0</td>\n",
       "      <td>2.0</td>\n",
       "      <td>3.0</td>\n",
       "      <td>3.0</td>\n",
       "      <td>4.0</td>\n",
       "      <td>6.0</td>\n",
       "      <td>5.0</td>\n",
       "    </tr>\n",
       "  </tbody>\n",
       "</table>\n",
       "<p>5 rows × 85 columns</p>\n",
       "</div>"
      ],
      "text/plain": [
       "   AGER_TYP  ALTERSKATEGORIE_GROB  ANREDE_KZ  CJT_GESAMTTYP  \\\n",
       "0        -1                     2          1            2.0   \n",
       "1        -1                     1          2            5.0   \n",
       "2        -1                     3          2            3.0   \n",
       "3         2                     4          2            2.0   \n",
       "4        -1                     3          1            5.0   \n",
       "\n",
       "   FINANZ_MINIMALIST  FINANZ_SPARER  FINANZ_VORSORGER  FINANZ_ANLEGER  \\\n",
       "0                  3              4                 3               5   \n",
       "1                  1              5                 2               5   \n",
       "2                  1              4                 1               2   \n",
       "3                  4              2                 5               2   \n",
       "4                  4              3                 4               1   \n",
       "\n",
       "   FINANZ_UNAUFFAELLIGER  FINANZ_HAUSBAUER    ...     PLZ8_ANTG1  PLZ8_ANTG2  \\\n",
       "0                      5                 3    ...            NaN         NaN   \n",
       "1                      4                 5    ...            2.0         3.0   \n",
       "2                      3                 5    ...            3.0         3.0   \n",
       "3                      1                 2    ...            2.0         2.0   \n",
       "4                      3                 2    ...            2.0         4.0   \n",
       "\n",
       "   PLZ8_ANTG3  PLZ8_ANTG4  PLZ8_BAUMAX  PLZ8_HHZ  PLZ8_GBZ  ARBEIT  \\\n",
       "0         NaN         NaN          NaN       NaN       NaN     NaN   \n",
       "1         2.0         1.0          1.0       5.0       4.0     3.0   \n",
       "2         1.0         0.0          1.0       4.0       4.0     3.0   \n",
       "3         2.0         0.0          1.0       3.0       4.0     2.0   \n",
       "4         2.0         1.0          2.0       3.0       3.0     4.0   \n",
       "\n",
       "   ORTSGR_KLS9  RELAT_AB  \n",
       "0          NaN       NaN  \n",
       "1          5.0       4.0  \n",
       "2          5.0       2.0  \n",
       "3          3.0       3.0  \n",
       "4          6.0       5.0  \n",
       "\n",
       "[5 rows x 85 columns]"
      ]
     },
     "execution_count": 3,
     "metadata": {},
     "output_type": "execute_result"
    }
   ],
   "source": [
    "# Check the structure of the data after it's loaded (e.g. print the number of\n",
    "# rows and columns, print the first few rows).\n",
    "\n",
    "# general demographic data\n",
    "print(\"(Rows,columns)\", azdias.shape)\n",
    "azdias.head(n=5)\n",
    "\n"
   ]
  },
  {
   "cell_type": "code",
   "execution_count": 4,
   "metadata": {},
   "outputs": [
    {
     "name": "stdout",
     "output_type": "stream",
     "text": [
      "<class 'pandas.core.frame.DataFrame'>\n",
      "RangeIndex: 891221 entries, 0 to 891220\n",
      "Data columns (total 85 columns):\n",
      "AGER_TYP                 891221 non-null int64\n",
      "ALTERSKATEGORIE_GROB     891221 non-null int64\n",
      "ANREDE_KZ                891221 non-null int64\n",
      "CJT_GESAMTTYP            886367 non-null float64\n",
      "FINANZ_MINIMALIST        891221 non-null int64\n",
      "FINANZ_SPARER            891221 non-null int64\n",
      "FINANZ_VORSORGER         891221 non-null int64\n",
      "FINANZ_ANLEGER           891221 non-null int64\n",
      "FINANZ_UNAUFFAELLIGER    891221 non-null int64\n",
      "FINANZ_HAUSBAUER         891221 non-null int64\n",
      "FINANZTYP                891221 non-null int64\n",
      "GEBURTSJAHR              891221 non-null int64\n",
      "GFK_URLAUBERTYP          886367 non-null float64\n",
      "GREEN_AVANTGARDE         891221 non-null int64\n",
      "HEALTH_TYP               891221 non-null int64\n",
      "LP_LEBENSPHASE_FEIN      886367 non-null float64\n",
      "LP_LEBENSPHASE_GROB      886367 non-null float64\n",
      "LP_FAMILIE_FEIN          886367 non-null float64\n",
      "LP_FAMILIE_GROB          886367 non-null float64\n",
      "LP_STATUS_FEIN           886367 non-null float64\n",
      "LP_STATUS_GROB           886367 non-null float64\n",
      "NATIONALITAET_KZ         891221 non-null int64\n",
      "PRAEGENDE_JUGENDJAHRE    891221 non-null int64\n",
      "RETOURTYP_BK_S           886367 non-null float64\n",
      "SEMIO_SOZ                891221 non-null int64\n",
      "SEMIO_FAM                891221 non-null int64\n",
      "SEMIO_REL                891221 non-null int64\n",
      "SEMIO_MAT                891221 non-null int64\n",
      "SEMIO_VERT               891221 non-null int64\n",
      "SEMIO_LUST               891221 non-null int64\n",
      "SEMIO_ERL                891221 non-null int64\n",
      "SEMIO_KULT               891221 non-null int64\n",
      "SEMIO_RAT                891221 non-null int64\n",
      "SEMIO_KRIT               891221 non-null int64\n",
      "SEMIO_DOM                891221 non-null int64\n",
      "SEMIO_KAEM               891221 non-null int64\n",
      "SEMIO_PFLICHT            891221 non-null int64\n",
      "SEMIO_TRADV              891221 non-null int64\n",
      "SHOPPER_TYP              891221 non-null int64\n",
      "SOHO_KZ                  817722 non-null float64\n",
      "TITEL_KZ                 817722 non-null float64\n",
      "VERS_TYP                 891221 non-null int64\n",
      "ZABEOTYP                 891221 non-null int64\n",
      "ALTER_HH                 817722 non-null float64\n",
      "ANZ_PERSONEN             817722 non-null float64\n",
      "ANZ_TITEL                817722 non-null float64\n",
      "HH_EINKOMMEN_SCORE       872873 non-null float64\n",
      "KK_KUNDENTYP             306609 non-null float64\n",
      "W_KEIT_KIND_HH           783619 non-null float64\n",
      "WOHNDAUER_2008           817722 non-null float64\n",
      "ANZ_HAUSHALTE_AKTIV      798073 non-null float64\n",
      "ANZ_HH_TITEL             794213 non-null float64\n",
      "GEBAEUDETYP              798073 non-null float64\n",
      "KONSUMNAEHE              817252 non-null float64\n",
      "MIN_GEBAEUDEJAHR         798073 non-null float64\n",
      "OST_WEST_KZ              798073 non-null object\n",
      "WOHNLAGE                 798073 non-null float64\n",
      "CAMEO_DEUG_2015          792242 non-null object\n",
      "CAMEO_DEU_2015           792242 non-null object\n",
      "CAMEO_INTL_2015          792242 non-null object\n",
      "KBA05_ANTG1              757897 non-null float64\n",
      "KBA05_ANTG2              757897 non-null float64\n",
      "KBA05_ANTG3              757897 non-null float64\n",
      "KBA05_ANTG4              757897 non-null float64\n",
      "KBA05_BAUMAX             757897 non-null float64\n",
      "KBA05_GBZ                757897 non-null float64\n",
      "BALLRAUM                 797481 non-null float64\n",
      "EWDICHTE                 797481 non-null float64\n",
      "INNENSTADT               797481 non-null float64\n",
      "GEBAEUDETYP_RASTER       798066 non-null float64\n",
      "KKK                      770025 non-null float64\n",
      "MOBI_REGIO               757897 non-null float64\n",
      "ONLINE_AFFINITAET        886367 non-null float64\n",
      "REGIOTYP                 770025 non-null float64\n",
      "KBA13_ANZAHL_PKW         785421 non-null float64\n",
      "PLZ8_ANTG1               774706 non-null float64\n",
      "PLZ8_ANTG2               774706 non-null float64\n",
      "PLZ8_ANTG3               774706 non-null float64\n",
      "PLZ8_ANTG4               774706 non-null float64\n",
      "PLZ8_BAUMAX              774706 non-null float64\n",
      "PLZ8_HHZ                 774706 non-null float64\n",
      "PLZ8_GBZ                 774706 non-null float64\n",
      "ARBEIT                   794005 non-null float64\n",
      "ORTSGR_KLS9              794005 non-null float64\n",
      "RELAT_AB                 794005 non-null float64\n",
      "dtypes: float64(49), int64(32), object(4)\n",
      "memory usage: 578.0+ MB\n"
     ]
    }
   ],
   "source": [
    "azdias.info()"
   ]
  },
  {
   "cell_type": "code",
   "execution_count": 5,
   "metadata": {},
   "outputs": [
    {
     "name": "stdout",
     "output_type": "stream",
     "text": [
      "(Rows,columns) (85, 4)\n"
     ]
    },
    {
     "data": {
      "text/html": [
       "<div>\n",
       "<style scoped>\n",
       "    .dataframe tbody tr th:only-of-type {\n",
       "        vertical-align: middle;\n",
       "    }\n",
       "\n",
       "    .dataframe tbody tr th {\n",
       "        vertical-align: top;\n",
       "    }\n",
       "\n",
       "    .dataframe thead th {\n",
       "        text-align: right;\n",
       "    }\n",
       "</style>\n",
       "<table border=\"1\" class=\"dataframe\">\n",
       "  <thead>\n",
       "    <tr style=\"text-align: right;\">\n",
       "      <th></th>\n",
       "      <th>attribute</th>\n",
       "      <th>information_level</th>\n",
       "      <th>type</th>\n",
       "      <th>missing_or_unknown</th>\n",
       "    </tr>\n",
       "  </thead>\n",
       "  <tbody>\n",
       "    <tr>\n",
       "      <th>0</th>\n",
       "      <td>AGER_TYP</td>\n",
       "      <td>person</td>\n",
       "      <td>categorical</td>\n",
       "      <td>[-1,0]</td>\n",
       "    </tr>\n",
       "    <tr>\n",
       "      <th>1</th>\n",
       "      <td>ALTERSKATEGORIE_GROB</td>\n",
       "      <td>person</td>\n",
       "      <td>ordinal</td>\n",
       "      <td>[-1,0,9]</td>\n",
       "    </tr>\n",
       "    <tr>\n",
       "      <th>2</th>\n",
       "      <td>ANREDE_KZ</td>\n",
       "      <td>person</td>\n",
       "      <td>categorical</td>\n",
       "      <td>[-1,0]</td>\n",
       "    </tr>\n",
       "    <tr>\n",
       "      <th>3</th>\n",
       "      <td>CJT_GESAMTTYP</td>\n",
       "      <td>person</td>\n",
       "      <td>categorical</td>\n",
       "      <td>[0]</td>\n",
       "    </tr>\n",
       "    <tr>\n",
       "      <th>4</th>\n",
       "      <td>FINANZ_MINIMALIST</td>\n",
       "      <td>person</td>\n",
       "      <td>ordinal</td>\n",
       "      <td>[-1]</td>\n",
       "    </tr>\n",
       "  </tbody>\n",
       "</table>\n",
       "</div>"
      ],
      "text/plain": [
       "              attribute information_level         type missing_or_unknown\n",
       "0              AGER_TYP            person  categorical             [-1,0]\n",
       "1  ALTERSKATEGORIE_GROB            person      ordinal           [-1,0,9]\n",
       "2             ANREDE_KZ            person  categorical             [-1,0]\n",
       "3         CJT_GESAMTTYP            person  categorical                [0]\n",
       "4     FINANZ_MINIMALIST            person      ordinal               [-1]"
      ]
     },
     "execution_count": 5,
     "metadata": {},
     "output_type": "execute_result"
    }
   ],
   "source": [
    "# feature summary file\n",
    "print(\"(Rows,columns)\",feat_info.shape)\n",
    "feat_info.head(n=5)\n",
    "\n",
    "\n"
   ]
  },
  {
   "cell_type": "markdown",
   "metadata": {},
   "source": [
    "Summary of information_level"
   ]
  },
  {
   "cell_type": "code",
   "execution_count": 6,
   "metadata": {},
   "outputs": [
    {
     "data": {
      "text/plain": [
       "person            43\n",
       "macrocell_plz8     8\n",
       "household          7\n",
       "building           7\n",
       "microcell_rr3      6\n",
       "region_rr1         5\n",
       "microcell_rr4      3\n",
       "community          3\n",
       "postcode           3\n",
       "Name: information_level, dtype: int64"
      ]
     },
     "execution_count": 6,
     "metadata": {},
     "output_type": "execute_result"
    }
   ],
   "source": [
    "feat_info['information_level'].value_counts()"
   ]
  },
  {
   "cell_type": "markdown",
   "metadata": {},
   "source": [
    "> **Tip**: Add additional cells to keep everything in reasonably-sized chunks! Keyboard shortcut `esc --> a` (press escape to enter command mode, then press the 'A' key) adds a new cell before the active cell, and `esc --> b` adds a new cell after the active cell. If you need to convert an active cell to a markdown cell, use `esc --> m` and to convert to a code cell, use `esc --> y`. \n",
    "\n",
    "## Step 1: Preprocessing\n",
    "\n",
    "### Step 1.1: Assess Missing Data\n",
    "\n",
    "The feature summary file contains a summary of properties for each demographics data column. You will use this file to help you make cleaning decisions during this stage of the project. First of all, you should assess the demographics data in terms of missing data. Pay attention to the following points as you perform your analysis, and take notes on what you observe. Make sure that you fill in the **Discussion** cell with your findings and decisions at the end of each step that has one!\n",
    "\n",
    "#### Step 1.1.1: Convert Missing Value Codes to NaNs\n",
    "The fourth column of the feature attributes summary (loaded in above as `feat_info`) documents the codes from the data dictionary that indicate missing or unknown data. While the file encodes this as a list (e.g. `[-1,0]`), this will get read in as a string object. You'll need to do a little bit of parsing to make use of it to identify and clean the data. Convert data that matches a 'missing' or 'unknown' value code into a numpy NaN value. You might want to see how much data takes on a 'missing' or 'unknown' code, and how much data is naturally missing, as a point of interest.\n",
    "\n",
    "**As one more reminder, you are encouraged to add additional cells to break up your analysis into manageable chunks.**"
   ]
  },
  {
   "cell_type": "code",
   "execution_count": 7,
   "metadata": {},
   "outputs": [],
   "source": [
    "# Identify missing or unknown data values and convert them to NaNs.\n",
    "\n",
    "dict_feat = {}\n",
    "for i in range(len(feat_info.values)):\n",
    "    dict_feat[feat_info.at[i,'attribute']] = feat_info.at[i,'missing_or_unknown']\n"
   ]
  },
  {
   "cell_type": "code",
   "execution_count": 8,
   "metadata": {},
   "outputs": [],
   "source": [
    "object_features = ['CAMEO_DEUG_2015', 'CAMEO_DEU_2015',\n",
    "                   'CAMEO_INTL_2015', 'OST_WEST_KZ']          \n",
    "\n",
    "for colum in azdias.columns:\n",
    "    for key in dict_feat.keys():\n",
    "        for value in dict_feat[key][1:-1].split(','):\n",
    "            if(value != ''):\n",
    "                if(key in object_features):\n",
    "                    azdias[key] = azdias[key].replace(value, np.nan)    \n",
    "                else:\n",
    "                    azdias[key] = azdias[key].replace({float(value) : np.nan})"
   ]
  },
  {
   "cell_type": "markdown",
   "metadata": {},
   "source": [
    "#### Step 1.1.2: Assess Missing Data in Each Column\n",
    "\n",
    "How much missing data is present in each column? There are a few columns that are outliers in terms of the proportion of values that are missing. You will want to use matplotlib's [`hist()`](https://matplotlib.org/api/_as_gen/matplotlib.pyplot.hist.html) function to visualize the distribution of missing value counts to find these columns. Identify and document these columns. While some of these columns might have justifications for keeping or re-encoding the data, for this project you should just remove them from the dataframe. (Feel free to make remarks about these outlier columns in the discussion, however!)\n",
    "\n",
    "For the remaining features, are there any patterns in which columns have, or share, missing data?"
   ]
  },
  {
   "cell_type": "code",
   "execution_count": 9,
   "metadata": {},
   "outputs": [],
   "source": [
    "# Perform an assessment of how much missing data there is in each column of the\n",
    "# dataset.\n",
    "missing_data_columns = azdias.isna().sum()\n",
    "\n",
    "\n"
   ]
  },
  {
   "cell_type": "code",
   "execution_count": 10,
   "metadata": {},
   "outputs": [
    {
     "data": {
      "text/plain": [
       "Text(0.5,0,'# Amount of Nan')"
      ]
     },
     "execution_count": 10,
     "metadata": {},
     "output_type": "execute_result"
    },
    {
     "data": {
      "image/png": "[encoded data removed]",
      "text/plain": [
       "<matplotlib.figure.Figure at 0x7fe654cd7ef0>"
      ]
     },
     "metadata": {
      "needs_background": "light"
     },
     "output_type": "display_data"
    }
   ],
   "source": [
    "# Investigate patterns in the amount of missing data in each column.\n",
    "\n",
    "plt.hist(missing_data_columns)\n",
    "plt.ylabel(\"# Frecuency of columns\")\n",
    "plt.xlabel(\"# Amount of Nan\")"
   ]
  },
  {
   "cell_type": "code",
   "execution_count": 11,
   "metadata": {},
   "outputs": [],
   "source": [
    "# Remove the outlier columns from the dataset. (You'll perform other data\n",
    "# engineering tasks such as re-encoding and imputation later.)\n",
    "\n",
    "threshold = 200000\n",
    "drop_columns = []\n",
    "for column in azdias.columns:\n",
    "    if(azdias[column].isna().sum() > threshold):\n",
    "        drop_columns.append(column)\n",
    "new_azdias = azdias.drop(columns = drop_columns)\n",
    "\n"
   ]
  },
  {
   "cell_type": "code",
   "execution_count": 12,
   "metadata": {},
   "outputs": [
    {
     "data": {
      "text/plain": [
       "['AGER_TYP',\n",
       " 'GEBURTSJAHR',\n",
       " 'TITEL_KZ',\n",
       " 'ALTER_HH',\n",
       " 'KK_KUNDENTYP',\n",
       " 'KBA05_BAUMAX']"
      ]
     },
     "execution_count": 12,
     "metadata": {},
     "output_type": "execute_result"
    }
   ],
   "source": [
    "drop_columns"
   ]
  },
  {
   "cell_type": "markdown",
   "metadata": {},
   "source": [
    "#### Discussion 1.1.2: Assess Missing Data in Each Column\n",
    "\n",
    "It is interesting to note that there is a gap in the histogram of nan values, so we could choose columns that belong to the first group, in which nan values are less than 20000. The columns that were dropped: 'AGER_TYP','GEBURTSJAHR','TITEL_KZ','ALTER_HH','KK_KUNDENTYP','KBA05_BAUMAX'"
   ]
  },
  {
   "cell_type": "markdown",
   "metadata": {},
   "source": [
    "#### Step 1.1.3: Assess Missing Data in Each Row\n",
    "\n",
    "Now, you'll perform a similar assessment for the rows of the dataset. How much data is missing in each row? As with the columns, you should see some groups of points that have a very different numbers of missing values. Divide the data into two subsets: one for data points that are above some threshold for missing values, and a second subset for points below that threshold.\n",
    "\n",
    "In order to know what to do with the outlier rows, we should see if the distribution of data values on columns that are not missing data (or are missing very little data) are similar or different between the two groups. Select at least five of these columns and compare the distribution of values.\n",
    "- You can use seaborn's [`countplot()`](https://seaborn.pydata.org/generated/seaborn.countplot.html) function to create a bar chart of code frequencies and matplotlib's [`subplot()`](https://matplotlib.org/api/_as_gen/matplotlib.pyplot.subplot.html) function to put bar charts for the two subplots side by side.\n",
    "- To reduce repeated code, you might want to write a function that can perform this comparison, taking as one of its arguments a column to be compared.\n",
    "\n",
    "Depending on what you observe in your comparison, this will have implications on how you approach your conclusions later in the analysis. If the distributions of non-missing features look similar between the data with many missing values and the data with few or no missing values, then we could argue that simply dropping those points from the analysis won't present a major issue. On the other hand, if the data with many missing values looks very different from the data with few or no missing values, then we should make a note on those data as special. We'll revisit these data later on. **Either way, you should continue your analysis for now using just the subset of the data with few or no missing values.**"
   ]
  },
  {
   "cell_type": "code",
   "execution_count": 13,
   "metadata": {},
   "outputs": [],
   "source": [
    "# How much data is missing in each row of the dataset?\n",
    "\n",
    "missing_data_rows = new_azdias.isna().sum(axis = 1)\n",
    "\n"
   ]
  },
  {
   "cell_type": "code",
   "execution_count": 14,
   "metadata": {},
   "outputs": [
    {
     "data": {
      "text/plain": [
       "(array([  6.97109000e+05,   7.76340000e+04,   1.28010000e+04,\n",
       "          9.53300000e+03,   8.29000000e+02,   1.55000000e+02,\n",
       "          1.40160000e+04,   5.03100000e+03,   2.80380000e+04,\n",
       "          4.60750000e+04]),\n",
       " array([  0. ,   4.9,   9.8,  14.7,  19.6,  24.5,  29.4,  34.3,  39.2,\n",
       "         44.1,  49. ]),\n",
       " <a list of 10 Patch objects>)"
      ]
     },
     "execution_count": 14,
     "metadata": {},
     "output_type": "execute_result"
    },
    {
     "data": {
      "image/png": "[encoded data removed]",
      "text/plain": [
       "<matplotlib.figure.Figure at 0x7fe654ccc4a8>"
      ]
     },
     "metadata": {
      "needs_background": "light"
     },
     "output_type": "display_data"
    }
   ],
   "source": [
    "plt.hist(missing_data_rows)"
   ]
  },
  {
   "cell_type": "code",
   "execution_count": 15,
   "metadata": {},
   "outputs": [],
   "source": [
    "# Write code to divide the data into two subsets based on the number of missing\n",
    "# values in each row.\n",
    "\n",
    "azdias_rows_1 = new_azdias[new_azdias.isna().sum(axis = 1) < 25]\n",
    "azdias_rows_2 = new_azdias[new_azdias.isna().sum(axis = 1) >= 25]\n"
   ]
  },
  {
   "cell_type": "code",
   "execution_count": 16,
   "metadata": {},
   "outputs": [],
   "source": [
    "# Compare the distribution of values for at least five columns where there are\n",
    "# no or few missing values, between the two subsets.\n",
    "columns_to_analyze = []\n",
    "for column in new_azdias.columns:\n",
    "    if ((azdias_rows_1[column].isna().sum() < 10) and (azdias_rows_2[column].isna().sum() < 10)):\n",
    "        columns_to_analyze.append(column)\n"
   ]
  },
  {
   "cell_type": "code",
   "execution_count": 17,
   "metadata": {},
   "outputs": [
    {
     "data": {
      "image/png": "[encoded data removed]",
      "text/plain": [
       "<matplotlib.figure.Figure at 0x7fe652bcb390>"
      ]
     },
     "metadata": {
      "needs_background": "light"
     },
     "output_type": "display_data"
    }
   ],
   "source": [
    "# Compare the distribution of values for at least five columns where there are\n",
    "# no or few missing values, between the two subsets.\n",
    "fig = plt.figure(5, figsize=(15,8))\n",
    "ax = []\n",
    "for i in range(5):\n",
    "\n",
    "    ax.append(fig.add_subplot(5, 2, i*2 + 1))\n",
    "    ax[i*2].set_title(columns_to_analyze[i])\n",
    "    sns.countplot(azdias_rows_1[columns_to_analyze[i]])\n",
    "    ax.append(fig.add_subplot(5, 2, i*2 + 2))\n",
    "    ax[i*2 + 1].set_title(columns_to_analyze[i])\n",
    "    sns.countplot(azdias_rows_2[columns_to_analyze[i]])\n"
   ]
  },
  {
   "cell_type": "markdown",
   "metadata": {},
   "source": [
    "#### Discussion 1.1.3: Assess Missing Data in Each Row\n",
    "\n",
    "It is interesting to note that there are two regions in the histogram of nan values, so we could choose people who have less than 25 features witn nan values, and we will still have a big amount of data, also if we check the differences between columns with few nan values in the two subsets, we can see that there are clear differences in their distributions"
   ]
  },
  {
   "cell_type": "markdown",
   "metadata": {},
   "source": [
    "### Step 1.2: Select and Re-Encode Features\n",
    "\n",
    "Checking for missing data isn't the only way in which you can prepare a dataset for analysis. Since the unsupervised learning techniques to be used will only work on data that is encoded numerically, you need to make a few encoding changes or additional assumptions to be able to make progress. In addition, while almost all of the values in the dataset are encoded using numbers, not all of them represent numeric values. Check the third column of the feature summary (`feat_info`) for a summary of types of measurement.\n",
    "- For numeric and interval data, these features can be kept without changes.\n",
    "- Most of the variables in the dataset are ordinal in nature. While ordinal values may technically be non-linear in spacing, make the simplifying assumption that the ordinal variables can be treated as being interval in nature (that is, kept without any changes).\n",
    "- Special handling may be necessary for the remaining two variable types: categorical, and 'mixed'.\n",
    "\n",
    "In the first two parts of this sub-step, you will perform an investigation of the categorical and mixed-type features and make a decision on each of them, whether you will keep, drop, or re-encode each. Then, in the last part, you will create a new data frame with only the selected and engineered columns.\n",
    "\n",
    "Data wrangling is often the trickiest part of the data analysis process, and there's a lot of it to be done here. But stick with it: once you're done with this step, you'll be ready to get to the machine learning parts of the project!"
   ]
  },
  {
   "cell_type": "code",
   "execution_count": 18,
   "metadata": {},
   "outputs": [
    {
     "data": {
      "text/plain": [
       "ordinal        49\n",
       "categorical    21\n",
       "numeric         7\n",
       "mixed           7\n",
       "interval        1\n",
       "Name: type, dtype: int64"
      ]
     },
     "execution_count": 18,
     "metadata": {},
     "output_type": "execute_result"
    }
   ],
   "source": [
    "# How many features are there of each data type?\n",
    "feat_info['type'].value_counts()\n"
   ]
  },
  {
   "cell_type": "markdown",
   "metadata": {},
   "source": [
    "#### Step 1.2.1: Re-Encode Categorical Features\n",
    "\n",
    "For categorical data, you would ordinarily need to encode the levels as dummy variables. Depending on the number of categories, perform one of the following:\n",
    "- For binary (two-level) categoricals that take numeric values, you can keep them without needing to do anything.\n",
    "- There is one binary variable that takes on non-numeric values. For this one, you need to re-encode the values as numbers or create a dummy variable.\n",
    "- For multi-level categoricals (three or more values), you can choose to encode the values using multiple dummy variables (e.g. via [OneHotEncoder](http://scikit-learn.org/stable/modules/generated/sklearn.preprocessing.OneHotEncoder.html)), or (to keep things straightforward) just drop them from the analysis. As always, document your choices in the Discussion section."
   ]
  },
  {
   "cell_type": "code",
   "execution_count": 19,
   "metadata": {},
   "outputs": [],
   "source": [
    "# Assess categorical variables: which are binary, which are multi-level, and\n",
    "# which one needs to be re-encoded?\n",
    "\n",
    "categorical_variables = feat_info[feat_info['type'] == 'categorical']"
   ]
  },
  {
   "cell_type": "code",
   "execution_count": 20,
   "metadata": {},
   "outputs": [
    {
     "data": {
      "text/html": [
       "<div>\n",
       "<style scoped>\n",
       "    .dataframe tbody tr th:only-of-type {\n",
       "        vertical-align: middle;\n",
       "    }\n",
       "\n",
       "    .dataframe tbody tr th {\n",
       "        vertical-align: top;\n",
       "    }\n",
       "\n",
       "    .dataframe thead th {\n",
       "        text-align: right;\n",
       "    }\n",
       "</style>\n",
       "<table border=\"1\" class=\"dataframe\">\n",
       "  <thead>\n",
       "    <tr style=\"text-align: right;\">\n",
       "      <th></th>\n",
       "      <th>attribute</th>\n",
       "      <th>information_level</th>\n",
       "      <th>type</th>\n",
       "      <th>missing_or_unknown</th>\n",
       "    </tr>\n",
       "  </thead>\n",
       "  <tbody>\n",
       "    <tr>\n",
       "      <th>0</th>\n",
       "      <td>AGER_TYP</td>\n",
       "      <td>person</td>\n",
       "      <td>categorical</td>\n",
       "      <td>[-1,0]</td>\n",
       "    </tr>\n",
       "    <tr>\n",
       "      <th>2</th>\n",
       "      <td>ANREDE_KZ</td>\n",
       "      <td>person</td>\n",
       "      <td>categorical</td>\n",
       "      <td>[-1,0]</td>\n",
       "    </tr>\n",
       "    <tr>\n",
       "      <th>3</th>\n",
       "      <td>CJT_GESAMTTYP</td>\n",
       "      <td>person</td>\n",
       "      <td>categorical</td>\n",
       "      <td>[0]</td>\n",
       "    </tr>\n",
       "    <tr>\n",
       "      <th>10</th>\n",
       "      <td>FINANZTYP</td>\n",
       "      <td>person</td>\n",
       "      <td>categorical</td>\n",
       "      <td>[-1]</td>\n",
       "    </tr>\n",
       "    <tr>\n",
       "      <th>12</th>\n",
       "      <td>GFK_URLAUBERTYP</td>\n",
       "      <td>person</td>\n",
       "      <td>categorical</td>\n",
       "      <td>[]</td>\n",
       "    </tr>\n",
       "    <tr>\n",
       "      <th>13</th>\n",
       "      <td>GREEN_AVANTGARDE</td>\n",
       "      <td>person</td>\n",
       "      <td>categorical</td>\n",
       "      <td>[]</td>\n",
       "    </tr>\n",
       "    <tr>\n",
       "      <th>17</th>\n",
       "      <td>LP_FAMILIE_FEIN</td>\n",
       "      <td>person</td>\n",
       "      <td>categorical</td>\n",
       "      <td>[0]</td>\n",
       "    </tr>\n",
       "    <tr>\n",
       "      <th>18</th>\n",
       "      <td>LP_FAMILIE_GROB</td>\n",
       "      <td>person</td>\n",
       "      <td>categorical</td>\n",
       "      <td>[0]</td>\n",
       "    </tr>\n",
       "    <tr>\n",
       "      <th>19</th>\n",
       "      <td>LP_STATUS_FEIN</td>\n",
       "      <td>person</td>\n",
       "      <td>categorical</td>\n",
       "      <td>[0]</td>\n",
       "    </tr>\n",
       "    <tr>\n",
       "      <th>20</th>\n",
       "      <td>LP_STATUS_GROB</td>\n",
       "      <td>person</td>\n",
       "      <td>categorical</td>\n",
       "      <td>[0]</td>\n",
       "    </tr>\n",
       "    <tr>\n",
       "      <th>21</th>\n",
       "      <td>NATIONALITAET_KZ</td>\n",
       "      <td>person</td>\n",
       "      <td>categorical</td>\n",
       "      <td>[-1,0]</td>\n",
       "    </tr>\n",
       "    <tr>\n",
       "      <th>38</th>\n",
       "      <td>SHOPPER_TYP</td>\n",
       "      <td>person</td>\n",
       "      <td>categorical</td>\n",
       "      <td>[-1]</td>\n",
       "    </tr>\n",
       "    <tr>\n",
       "      <th>39</th>\n",
       "      <td>SOHO_KZ</td>\n",
       "      <td>person</td>\n",
       "      <td>categorical</td>\n",
       "      <td>[-1]</td>\n",
       "    </tr>\n",
       "    <tr>\n",
       "      <th>40</th>\n",
       "      <td>TITEL_KZ</td>\n",
       "      <td>person</td>\n",
       "      <td>categorical</td>\n",
       "      <td>[-1,0]</td>\n",
       "    </tr>\n",
       "    <tr>\n",
       "      <th>41</th>\n",
       "      <td>VERS_TYP</td>\n",
       "      <td>person</td>\n",
       "      <td>categorical</td>\n",
       "      <td>[-1]</td>\n",
       "    </tr>\n",
       "    <tr>\n",
       "      <th>42</th>\n",
       "      <td>ZABEOTYP</td>\n",
       "      <td>person</td>\n",
       "      <td>categorical</td>\n",
       "      <td>[-1,9]</td>\n",
       "    </tr>\n",
       "    <tr>\n",
       "      <th>47</th>\n",
       "      <td>KK_KUNDENTYP</td>\n",
       "      <td>household</td>\n",
       "      <td>categorical</td>\n",
       "      <td>[-1]</td>\n",
       "    </tr>\n",
       "    <tr>\n",
       "      <th>52</th>\n",
       "      <td>GEBAEUDETYP</td>\n",
       "      <td>building</td>\n",
       "      <td>categorical</td>\n",
       "      <td>[-1,0]</td>\n",
       "    </tr>\n",
       "    <tr>\n",
       "      <th>55</th>\n",
       "      <td>OST_WEST_KZ</td>\n",
       "      <td>building</td>\n",
       "      <td>categorical</td>\n",
       "      <td>[-1]</td>\n",
       "    </tr>\n",
       "    <tr>\n",
       "      <th>57</th>\n",
       "      <td>CAMEO_DEUG_2015</td>\n",
       "      <td>microcell_rr4</td>\n",
       "      <td>categorical</td>\n",
       "      <td>[-1,X]</td>\n",
       "    </tr>\n",
       "    <tr>\n",
       "      <th>58</th>\n",
       "      <td>CAMEO_DEU_2015</td>\n",
       "      <td>microcell_rr4</td>\n",
       "      <td>categorical</td>\n",
       "      <td>[XX]</td>\n",
       "    </tr>\n",
       "  </tbody>\n",
       "</table>\n",
       "</div>"
      ],
      "text/plain": [
       "           attribute information_level         type missing_or_unknown\n",
       "0           AGER_TYP            person  categorical             [-1,0]\n",
       "2          ANREDE_KZ            person  categorical             [-1,0]\n",
       "3      CJT_GESAMTTYP            person  categorical                [0]\n",
       "10         FINANZTYP            person  categorical               [-1]\n",
       "12   GFK_URLAUBERTYP            person  categorical                 []\n",
       "13  GREEN_AVANTGARDE            person  categorical                 []\n",
       "17   LP_FAMILIE_FEIN            person  categorical                [0]\n",
       "18   LP_FAMILIE_GROB            person  categorical                [0]\n",
       "19    LP_STATUS_FEIN            person  categorical                [0]\n",
       "20    LP_STATUS_GROB            person  categorical                [0]\n",
       "21  NATIONALITAET_KZ            person  categorical             [-1,0]\n",
       "38       SHOPPER_TYP            person  categorical               [-1]\n",
       "39           SOHO_KZ            person  categorical               [-1]\n",
       "40          TITEL_KZ            person  categorical             [-1,0]\n",
       "41          VERS_TYP            person  categorical               [-1]\n",
       "42          ZABEOTYP            person  categorical             [-1,9]\n",
       "47      KK_KUNDENTYP         household  categorical               [-1]\n",
       "52       GEBAEUDETYP          building  categorical             [-1,0]\n",
       "55       OST_WEST_KZ          building  categorical               [-1]\n",
       "57   CAMEO_DEUG_2015     microcell_rr4  categorical             [-1,X]\n",
       "58    CAMEO_DEU_2015     microcell_rr4  categorical               [XX]"
      ]
     },
     "execution_count": 20,
     "metadata": {},
     "output_type": "execute_result"
    }
   ],
   "source": [
    "categorical_variables"
   ]
  },
  {
   "cell_type": "code",
   "execution_count": 21,
   "metadata": {},
   "outputs": [],
   "source": [
    "# Re-encode categorical variable(s) to be kept in the analysis.\n",
    "\n",
    "# For binary\n",
    "azdias_categorical = azdias_rows_1.copy()\n",
    "multilevel = {}\n",
    "multilevel_accepted = {}\n",
    "multilevel_accepted_list = []\n",
    "binary = {}\n",
    "values_total = []\n",
    "for atribute in categorical_variables['attribute'].unique():\n",
    "    if(atribute in azdias_categorical.columns):\n",
    "        values = len(azdias_categorical[atribute].unique())\n",
    "        array_values = azdias_categorical[atribute].unique()\n",
    "        values_total.append(values)\n",
    "        if(values == 2):\n",
    "            binary[atribute] = values\n",
    "            azdias_categorical[atribute] = azdias_categorical[atribute].replace(array_values[0], 0)\n",
    "            azdias_categorical[atribute] = azdias_categorical[atribute].replace(array_values[1], 1)\n",
    "        else:\n",
    "            multilevel[atribute] = values\n",
    "            azdias_categorical = azdias_categorical.drop(columns = atribute)\n",
    "        "
   ]
  },
  {
   "cell_type": "code",
   "execution_count": 22,
   "metadata": {},
   "outputs": [
    {
     "data": {
      "text/plain": [
       "dict_keys(['CJT_GESAMTTYP', 'FINANZTYP', 'GFK_URLAUBERTYP', 'LP_FAMILIE_FEIN', 'LP_FAMILIE_GROB', 'LP_STATUS_FEIN', 'LP_STATUS_GROB', 'NATIONALITAET_KZ', 'SHOPPER_TYP', 'VERS_TYP', 'ZABEOTYP', 'GEBAEUDETYP', 'CAMEO_DEUG_2015', 'CAMEO_DEU_2015'])"
      ]
     },
     "execution_count": 22,
     "metadata": {},
     "output_type": "execute_result"
    }
   ],
   "source": [
    "multilevel.keys()"
   ]
  },
  {
   "cell_type": "code",
   "execution_count": 23,
   "metadata": {},
   "outputs": [
    {
     "data": {
      "text/plain": [
       "[3, 4, 5, 6, 6, 6, 6, 7, 7, 10, 11, 12, 13, 45]"
      ]
     },
     "execution_count": 23,
     "metadata": {},
     "output_type": "execute_result"
    }
   ],
   "source": [
    "sorted(multilevel.values())"
   ]
  },
  {
   "cell_type": "code",
   "execution_count": 24,
   "metadata": {},
   "outputs": [
    {
     "data": {
      "text/plain": [
       "{'ANREDE_KZ': 2, 'GREEN_AVANTGARDE': 2, 'SOHO_KZ': 2, 'OST_WEST_KZ': 2}"
      ]
     },
     "execution_count": 24,
     "metadata": {},
     "output_type": "execute_result"
    }
   ],
   "source": [
    "binary"
   ]
  },
  {
   "cell_type": "markdown",
   "metadata": {},
   "source": [
    "#### Discussion 1.2.1: Re-Encode Categorical Features\n",
    "\n",
    "I kept: ANREDE_KZ, GREEN_AVANTGARDE, OST_WEST_KZ.\n",
    "\n",
    "I dropped: CJT_GESAMTTYP', 'FINANZTYP', 'GFK_URLAUBERTYP', 'LP_FAMILIE_FEIN', 'LP_FAMILIE_GROB', 'LP_STATUS_FEIN', 'LP_STATUS_GROB', 'NATIONALITAET_KZ', 'SHOPPER_TYP', 'VERS_TYP', 'ZABEOTYP', 'GEBAEUDETYP', 'CAMEO_DEUG_2015', 'CAMEO_DEU_2015'\n",
    "\n",
    "I decided to only use binary in this project, because one of the problem that have one-hot encoder is that the more categorical labels you have, the more resource you need to train your model because of the large amount of features. I think that is a good idea in any project start with less features and then increase the number of features when at the same time checking for improvements. I would do that in a next iteration of a project like this."
   ]
  },
  {
   "cell_type": "markdown",
   "metadata": {},
   "source": [
    "#### Step 1.2.2: Engineer Mixed-Type Features\n",
    "\n",
    "There are a handful of features that are marked as \"mixed\" in the feature summary that require special treatment in order to be included in the analysis. There are two in particular that deserve attention; the handling of the rest are up to your own choices:\n",
    "- \"PRAEGENDE_JUGENDJAHRE\" combines information on three dimensions: generation by decade, movement (mainstream vs. avantgarde), and nation (east vs. west). While there aren't enough levels to disentangle east from west, you should create two new variables to capture the other two dimensions: an interval-type variable for decade, and a binary variable for movement.\n",
    "- \"CAMEO_INTL_2015\" combines information on two axes: wealth and life stage. Break up the two-digit codes by their 'tens'-place and 'ones'-place digits into two new ordinal variables (which, for the purposes of this project, is equivalent to just treating them as their raw numeric values).\n",
    "- If you decide to keep or engineer new features around the other mixed-type features, make sure you note your steps in the Discussion section.\n",
    "\n",
    "Be sure to check `Data_Dictionary.md` for the details needed to finish these tasks."
   ]
  },
  {
   "cell_type": "markdown",
   "metadata": {},
   "source": [
    "-  1: 40s - war years (Mainstream, E+W)\n",
    "-  2: 40s - reconstruction years (Avantgarde, E+W)\n",
    "-  3: 50s - economic miracle (Mainstream, E+W)\n",
    "-  4: 50s - milk bar / Individualisation (Avantgarde, E+W)\n",
    "-  5: 60s - economic miracle (Mainstream, E+W)\n",
    "-  6: 60s - generation 68 / student protestors (Avantgarde, W)\n",
    "-  7: 60s - opponents to the building of the Wall (Avantgarde, E)\n",
    "-  8: 70s - family orientation (Mainstream, E+W)\n",
    "-  9: 70s - peace movement (Avantgarde, E+W)\n",
    "- 10: 80s - Generation Golf (Mainstream, W)\n",
    "- 11: 80s - ecological awareness (Avantgarde, W)\n",
    "- 12: 80s - FDJ / communist party youth organisation (Mainstream, E)\n",
    "- 13: 80s - Swords into ploughshares (Avantgarde, E)\n",
    "- 14: 90s - digital media kids (Mainstream, E+W)\n",
    "- 15: 90s - ecological awareness (Avantgarde, E+W)"
   ]
  },
  {
   "cell_type": "code",
   "execution_count": 25,
   "metadata": {},
   "outputs": [],
   "source": [
    "# Investigate \"PRAEGENDE_JUGENDJAHRE\" and engineer two new variables.\n",
    "\n",
    "epoch_40 = [1,2]\n",
    "epoch_50 = [3,4]\n",
    "epoch_60 = [5,6,7]\n",
    "epoch_70 = [8,9]\n",
    "epoch_80 = [10,11,12,13]\n",
    "epoch_90 = [14,16]\n",
    "movement = {}\n",
    "aux_azdias = azdias_categorical.copy()\n",
    "aux_azdias = aux_azdias.reset_index(drop = True)\n",
    "aux_azdias['PRAEGENDE_JUGENDJAHRE_EPOCH'] = -1\n",
    "for i in range(len(aux_azdias.values)):\n",
    "    if(aux_azdias.at[i,'PRAEGENDE_JUGENDJAHRE'] in epoch_40):\n",
    "        aux_azdias.at[i,'PRAEGENDE_JUGENDJAHRE_EPOCH'] = 0\n",
    "    elif(aux_azdias.at[i,'PRAEGENDE_JUGENDJAHRE'] in epoch_50):\n",
    "        aux_azdias.at[i,'PRAEGENDE_JUGENDJAHRE_EPOCH'] = 1\n",
    "    elif(aux_azdias.at[i,'PRAEGENDE_JUGENDJAHRE'] in epoch_60):\n",
    "        aux_azdias.at[i,'PRAEGENDE_JUGENDJAHRE_EPOCH'] = 2\n",
    "    elif(aux_azdias.at[i,'PRAEGENDE_JUGENDJAHRE'] in epoch_70):\n",
    "        aux_azdias.at[i,'PRAEGENDE_JUGENDJAHRE_EPOCH'] = 3\n",
    "    elif(aux_azdias.at[i,'PRAEGENDE_JUGENDJAHRE'] in epoch_80):\n",
    "        aux_azdias.at[i,'PRAEGENDE_JUGENDJAHRE_EPOCH'] = 4\n",
    "    elif(aux_azdias.at[i,'PRAEGENDE_JUGENDJAHRE'] in epoch_90):\n",
    "        aux_azdias.at[i,'PRAEGENDE_JUGENDJAHRE_EPOCH'] = 5\n",
    "aux_azdias.drop(aux_azdias[aux_azdias['PRAEGENDE_JUGENDJAHRE_EPOCH'] == -1].index, inplace = True)"
   ]
  },
  {
   "cell_type": "code",
   "execution_count": 26,
   "metadata": {},
   "outputs": [],
   "source": [
    "mainstream = [1,3,5,8,10,12,14]\n",
    "avantgarde = [2,4,6,7,9,11,13,15]\n",
    "aux_azdias = aux_azdias.reset_index(drop = True)\n",
    "aux_azdias['PRAEGENDE_JUGENDJAHRE_MOVEMENT'] = -1\n",
    "for i in range(len(aux_azdias.values)):\n",
    "    if(aux_azdias.at[i,'PRAEGENDE_JUGENDJAHRE'] in mainstream):\n",
    "        aux_azdias.at[i,'PRAEGENDE_JUGENDJAHRE_MOVEMENT'] = 0\n",
    "    elif(aux_azdias.at[i,'PRAEGENDE_JUGENDJAHRE'] in avantgarde):\n",
    "        aux_azdias.at[i,'PRAEGENDE_JUGENDJAHRE_MOVEMENT'] = 1 \n",
    "aux_azdias.drop(aux_azdias[aux_azdias['PRAEGENDE_JUGENDJAHRE_MOVEMENT'] == -1].index, inplace = True)"
   ]
  },
  {
   "cell_type": "markdown",
   "metadata": {},
   "source": [
    "- 11: Wealthy Households - Pre-Family Couples & Singles\n",
    "- 12: Wealthy Households - Young Couples With Children\n",
    "- 13: Wealthy Households - Families With School Age Children\n",
    "- 14: Wealthy Households - Older Families &  Mature Couples\n",
    "- 15: Wealthy Households - Elders In Retirement\n",
    "- 21: Prosperous Households - Pre-Family Couples & Singles\n",
    "- 22: Prosperous Households - Young Couples With Children\n",
    "- 23: Prosperous Households - Families With School Age Children\n",
    "- 24: Prosperous Households - Older Families & Mature Couples\n",
    "- 25: Prosperous Households - Elders In Retirement\n",
    "- 31: Comfortable Households - Pre-Family Couples & Singles\n",
    "- 32: Comfortable Households - Young Couples With Children\n",
    "- 33: Comfortable Households - Families With School Age Children\n",
    "- 34: Comfortable Households - Older Families & Mature Couples\n",
    "- 35: Comfortable Households - Elders In Retirement\n",
    "- 41: Less Affluent Households - Pre-Family Couples & Singles\n",
    "- 42: Less Affluent Households - Young Couples With Children\n",
    "- 43: Less Affluent Households - Families With School Age Children\n",
    "- 44: Less Affluent Households - Older Families & Mature Couples\n",
    "- 45: Less Affluent Households - Elders In Retirement\n",
    "- 51: Poorer Households - Pre-Family Couples & Singles\n",
    "- 52: Poorer Households - Young Couples With Children\n",
    "- 53: Poorer Households - Families With School Age Children\n",
    "- 54: Poorer Households - Older Families & Mature Couples\n",
    "- 55: Poorer Households - Elders In Retirement\n",
    "- XX: unknown"
   ]
  },
  {
   "cell_type": "code",
   "execution_count": 27,
   "metadata": {},
   "outputs": [],
   "source": [
    "# Investigate \"CAMEO_INTL_2015\" and engineer two new variables.\n",
    "aux_azdias = aux_azdias.reset_index(drop =True)\n",
    "aux_azdias['CAMEO_INTL_2015_WEALTH'] = -1\n",
    "aux_azdias['CAMEO_INTL_2015'] = pd.to_numeric(aux_azdias['CAMEO_INTL_2015'])\n",
    "for i in range(len(aux_azdias.values)):\n",
    "    if(~ np.isnan(aux_azdias.at[i,'CAMEO_INTL_2015'])):\n",
    "        value = int(aux_azdias.at[i,'CAMEO_INTL_2015'])\n",
    "        if(int(value / 10) == 1):\n",
    "            aux_azdias.at[i, 'CAMEO_INTL_2015_WEALTH'] = 0\n",
    "        if(int(value/ 10) == 2):\n",
    "            aux_azdias.at[i, 'CAMEO_INTL_2015_WEALTH'] = 1\n",
    "        if(int(value / 10) == 3):\n",
    "            aux_azdias.at[i, 'CAMEO_INTL_2015_WEALTH'] = 2\n",
    "        if(int(value/ 10) == 4):\n",
    "            aux_azdias.at[i, 'CAMEO_INTL_2015_WEALTH'] = 3\n",
    "        if(int(value / 10) == 5):\n",
    "            aux_azdias.at[i, 'CAMEO_INTL_2015_WEALTH'] = 4\n",
    "aux_azdias.drop(aux_azdias[aux_azdias['CAMEO_INTL_2015_WEALTH'] == -1].index, inplace = True)"
   ]
  },
  {
   "cell_type": "code",
   "execution_count": 28,
   "metadata": {},
   "outputs": [],
   "source": [
    "aux_azdias = aux_azdias.reset_index(drop = True)\n",
    "aux_azdias['CAMEO_INTL_2015_LIFESTAGE'] = -1\n",
    "for i in range(len(aux_azdias.values)):\n",
    "    if(aux_azdias.at[i,'CAMEO_INTL_2015'] != 'XX'):\n",
    "        if(aux_azdias.at[i,'CAMEO_INTL_2015'] % 6 == 1):\n",
    "            aux_azdias.at[i, 'CAMEO_INTL_2015_LIFESTAGE'] = 0\n",
    "        if(aux_azdias.at[i,'CAMEO_INTL_2015'] % 6 == 2):\n",
    "            aux_azdias.at[i, 'CAMEO_INTL_2015_LIFESTAGE'] = 1\n",
    "        if(aux_azdias.at[i,'CAMEO_INTL_2015'] % 6 == 3):\n",
    "            aux_azdias.at[i, 'CAMEO_INTL_2015_LIFESTAGE'] = 2\n",
    "        if(aux_azdias.at[i,'CAMEO_INTL_2015']  % 6 == 4):\n",
    "            aux_azdias.at[i, 'CAMEO_INTL_2015_LIFESTAGE'] = 3\n",
    "        if(aux_azdias.at[i,'CAMEO_INTL_2015']  % 6 == 5):\n",
    "            aux_azdias.at[i, 'CAMEO_INTL_2015_LIFESTAGE'] = 4\n",
    "aux_azdias.drop(aux_azdias[aux_azdias['CAMEO_INTL_2015_LIFESTAGE'] == -1].index, inplace = True)"
   ]
  },
  {
   "cell_type": "code",
   "execution_count": 29,
   "metadata": {},
   "outputs": [],
   "source": [
    "aux_azdias.drop(columns = ['CAMEO_INTL_2015', 'PRAEGENDE_JUGENDJAHRE'], inplace = True)"
   ]
  },
  {
   "cell_type": "markdown",
   "metadata": {},
   "source": [
    "#### Discussion 1.2.2: Engineer Mixed-Type Features\n",
    "\n",
    "I kept: 'CAMEO_INTL_2015_LIFESTAGE', 'CAMEO_INTL_2015_WEALTH', 'PRAEGENDE_JUGENDJAHRE_MOVEMENT', 'PRAEGENDE_JUGENDJAHRE_EPOCH'\n",
    "\n",
    "I dropped: 'CAMEO_INTL_2015', 'PRAEGENDE_JUGENDJAHRE'\n",
    "\n",
    "I traversed the whole dataframe and checking if each row has the characteristic requested in this step then i added the new values"
   ]
  },
  {
   "cell_type": "markdown",
   "metadata": {},
   "source": [
    "#### Step 1.2.3: Complete Feature Selection\n",
    "\n",
    "In order to finish this step up, you need to make sure that your data frame now only has the columns that you want to keep. To summarize, the dataframe should consist of the following:\n",
    "- All numeric, interval, and ordinal type columns from the original dataset.\n",
    "- Binary categorical features (all numerically-encoded).\n",
    "- Engineered features from other multi-level categorical features and mixed features.\n",
    "\n",
    "Make sure that for any new columns that you have engineered, that you've excluded the original columns from the final dataset. Otherwise, their values will interfere with the analysis later on the project. For example, you should not keep \"PRAEGENDE_JUGENDJAHRE\", since its values won't be useful for the algorithm: only the values derived from it in the engineered features you created should be retained. As a reminder, your data should only be from **the subset with few or no missing values**."
   ]
  },
  {
   "cell_type": "code",
   "execution_count": 30,
   "metadata": {},
   "outputs": [
    {
     "name": "stdout",
     "output_type": "stream",
     "text": [
      "<class 'pandas.core.frame.DataFrame'>\n",
      "Int64Index: 585593 entries, 0 to 721339\n",
      "Data columns (total 67 columns):\n",
      "ALTERSKATEGORIE_GROB              583437 non-null float64\n",
      "ANREDE_KZ                         585593 non-null int64\n",
      "FINANZ_MINIMALIST                 585593 non-null int64\n",
      "FINANZ_SPARER                     585593 non-null int64\n",
      "FINANZ_VORSORGER                  585593 non-null int64\n",
      "FINANZ_ANLEGER                    585593 non-null int64\n",
      "FINANZ_UNAUFFAELLIGER             585593 non-null int64\n",
      "FINANZ_HAUSBAUER                  585593 non-null int64\n",
      "GREEN_AVANTGARDE                  585593 non-null int64\n",
      "HEALTH_TYP                        571558 non-null float64\n",
      "LP_LEBENSPHASE_FEIN               561178 non-null float64\n",
      "LP_LEBENSPHASE_GROB               561313 non-null float64\n",
      "RETOURTYP_BK_S                    582181 non-null float64\n",
      "SEMIO_SOZ                         585593 non-null int64\n",
      "SEMIO_FAM                         585593 non-null int64\n",
      "SEMIO_REL                         585593 non-null int64\n",
      "SEMIO_MAT                         585593 non-null int64\n",
      "SEMIO_VERT                        585593 non-null int64\n",
      "SEMIO_LUST                        585593 non-null int64\n",
      "SEMIO_ERL                         585593 non-null int64\n",
      "SEMIO_KULT                        585593 non-null int64\n",
      "SEMIO_RAT                         585593 non-null int64\n",
      "SEMIO_KRIT                        585593 non-null int64\n",
      "SEMIO_DOM                         585593 non-null int64\n",
      "SEMIO_KAEM                        585593 non-null int64\n",
      "SEMIO_PFLICHT                     585593 non-null int64\n",
      "SEMIO_TRADV                       585593 non-null int64\n",
      "SOHO_KZ                           585593 non-null float64\n",
      "ANZ_PERSONEN                      585593 non-null float64\n",
      "ANZ_TITEL                         585593 non-null float64\n",
      "HH_EINKOMMEN_SCORE                585593 non-null float64\n",
      "W_KEIT_KIND_HH                    548273 non-null float64\n",
      "WOHNDAUER_2008                    585593 non-null float64\n",
      "ANZ_HAUSHALTE_AKTIV               581126 non-null float64\n",
      "ANZ_HH_TITEL                      582863 non-null float64\n",
      "KONSUMNAEHE                       585556 non-null float64\n",
      "MIN_GEBAEUDEJAHR                  585593 non-null float64\n",
      "OST_WEST_KZ                       585593 non-null int64\n",
      "WOHNLAGE                          585593 non-null float64\n",
      "KBA05_ANTG1                       559812 non-null float64\n",
      "KBA05_ANTG2                       559812 non-null float64\n",
      "KBA05_ANTG3                       559812 non-null float64\n",
      "KBA05_ANTG4                       559812 non-null float64\n",
      "KBA05_GBZ                         559812 non-null float64\n",
      "BALLRAUM                          585191 non-null float64\n",
      "EWDICHTE                          585191 non-null float64\n",
      "INNENSTADT                        585191 non-null float64\n",
      "GEBAEUDETYP_RASTER                585591 non-null float64\n",
      "KKK                               539268 non-null float64\n",
      "MOBI_REGIO                        559812 non-null float64\n",
      "ONLINE_AFFINITAET                 582181 non-null float64\n",
      "REGIOTYP                          539268 non-null float64\n",
      "KBA13_ANZAHL_PKW                  578237 non-null float64\n",
      "PLZ8_ANTG1                        570915 non-null float64\n",
      "PLZ8_ANTG2                        570915 non-null float64\n",
      "PLZ8_ANTG3                        570915 non-null float64\n",
      "PLZ8_ANTG4                        570915 non-null float64\n",
      "PLZ8_BAUMAX                       570915 non-null float64\n",
      "PLZ8_HHZ                          570915 non-null float64\n",
      "PLZ8_GBZ                          570915 non-null float64\n",
      "ARBEIT                            582538 non-null float64\n",
      "ORTSGR_KLS9                       582612 non-null float64\n",
      "RELAT_AB                          582538 non-null float64\n",
      "PRAEGENDE_JUGENDJAHRE_EPOCH       585593 non-null int64\n",
      "PRAEGENDE_JUGENDJAHRE_MOVEMENT    585593 non-null int64\n",
      "CAMEO_INTL_2015_WEALTH            585593 non-null int64\n",
      "CAMEO_INTL_2015_LIFESTAGE         585593 non-null int64\n",
      "dtypes: float64(40), int64(27)\n",
      "memory usage: 303.8 MB\n"
     ]
    }
   ],
   "source": [
    "# If there are other re-engineering tasks you need to perform, make sure you\n",
    "# take care of them here. (Dealing with missing data will come in step 2.1.)\n",
    "\n",
    "# Every feature is numeric, interval or ordinal\n",
    "aux_azdias.info()"
   ]
  },
  {
   "cell_type": "code",
   "execution_count": 31,
   "metadata": {},
   "outputs": [
    {
     "data": {
      "text/plain": [
       "Index(['ALTERSKATEGORIE_GROB', 'ANREDE_KZ', 'FINANZ_MINIMALIST',\n",
       "       'FINANZ_SPARER', 'FINANZ_VORSORGER', 'FINANZ_ANLEGER',\n",
       "       'FINANZ_UNAUFFAELLIGER', 'FINANZ_HAUSBAUER', 'GREEN_AVANTGARDE',\n",
       "       'HEALTH_TYP', 'LP_LEBENSPHASE_FEIN', 'LP_LEBENSPHASE_GROB',\n",
       "       'RETOURTYP_BK_S', 'SEMIO_SOZ', 'SEMIO_FAM', 'SEMIO_REL', 'SEMIO_MAT',\n",
       "       'SEMIO_VERT', 'SEMIO_LUST', 'SEMIO_ERL', 'SEMIO_KULT', 'SEMIO_RAT',\n",
       "       'SEMIO_KRIT', 'SEMIO_DOM', 'SEMIO_KAEM', 'SEMIO_PFLICHT', 'SEMIO_TRADV',\n",
       "       'SOHO_KZ', 'ANZ_PERSONEN', 'ANZ_TITEL', 'HH_EINKOMMEN_SCORE',\n",
       "       'W_KEIT_KIND_HH', 'WOHNDAUER_2008', 'ANZ_HAUSHALTE_AKTIV',\n",
       "       'ANZ_HH_TITEL', 'KONSUMNAEHE', 'MIN_GEBAEUDEJAHR', 'OST_WEST_KZ',\n",
       "       'WOHNLAGE', 'KBA05_ANTG1', 'KBA05_ANTG2', 'KBA05_ANTG3', 'KBA05_ANTG4',\n",
       "       'KBA05_GBZ', 'BALLRAUM', 'EWDICHTE', 'INNENSTADT', 'GEBAEUDETYP_RASTER',\n",
       "       'KKK', 'MOBI_REGIO', 'ONLINE_AFFINITAET', 'REGIOTYP',\n",
       "       'KBA13_ANZAHL_PKW', 'PLZ8_ANTG1', 'PLZ8_ANTG2', 'PLZ8_ANTG3',\n",
       "       'PLZ8_ANTG4', 'PLZ8_BAUMAX', 'PLZ8_HHZ', 'PLZ8_GBZ', 'ARBEIT',\n",
       "       'ORTSGR_KLS9', 'RELAT_AB', 'PRAEGENDE_JUGENDJAHRE_EPOCH',\n",
       "       'PRAEGENDE_JUGENDJAHRE_MOVEMENT', 'CAMEO_INTL_2015_WEALTH',\n",
       "       'CAMEO_INTL_2015_LIFESTAGE'],\n",
       "      dtype='object')"
      ]
     },
     "execution_count": 31,
     "metadata": {},
     "output_type": "execute_result"
    }
   ],
   "source": [
    "# Do whatever you need to in order to ensure that the dataframe only contains\n",
    "# the columns that should be passed to the algorithm functions.\n",
    "\n",
    "# I checked if PRAEGENDE JUGENDJAHRE_MOVEMENT and CAMEO_INTL_2015 are still in the dataframe and check for the new colums\n",
    "aux_azdias.columns"
   ]
  },
  {
   "cell_type": "markdown",
   "metadata": {},
   "source": [
    "### Step 1.3: Create a Cleaning Function\n",
    "\n",
    "Even though you've finished cleaning up the general population demographics data, it's important to look ahead to the future and realize that you'll need to perform the same cleaning steps on the customer demographics data. In this substep, complete the function below to execute the main feature selection, encoding, and re-engineering steps you performed above. Then, when it comes to looking at the customer data in Step 3, you can just run this function on that DataFrame to get the trimmed dataset in a single step."
   ]
  },
  {
   "cell_type": "code",
   "execution_count": 32,
   "metadata": {},
   "outputs": [],
   "source": [
    "def clean_data(df):\n",
    "    \"\"\"\n",
    "    Perform feature trimming, re-encoding, and engineering for demographics\n",
    "    data\n",
    "    \n",
    "    INPUT: Demographics DataFrame\n",
    "    OUTPUT: Trimmed and cleaned demographics DataFrame\n",
    "    \"\"\"\n",
    "    \n",
    "    # Put in code here to execute all main cleaning steps:\n",
    "    # convert missing value codes into NaNs, ...\n",
    "    dict_feat = {}\n",
    "    for i in range(len(feat_info.values)):\n",
    "        dict_feat[feat_info.at[i,'attribute']] = feat_info.at[i,'missing_or_unknown']    \n",
    "        object_features = ['CAMEO_DEUG_2015', 'CAMEO_DEU_2015',\n",
    "                   'CAMEO_INTL_2015', 'OST_WEST_KZ']          \n",
    "\n",
    "    for colum in df.columns:\n",
    "        for key in dict_feat.keys():\n",
    "            for value in dict_feat[key][1:-1].split(','):\n",
    "                if(value != ''):\n",
    "                    if(key in object_features):\n",
    "                        df[key] = df[key].replace(value, np.nan)    \n",
    "                    else:\n",
    "                        df[key] = df[key].replace({float(value) : np.nan})\n",
    "\n",
    "    \n",
    "    # remove selected columns and rows, ...\n",
    "    #Columns\n",
    " \n",
    "    new_azdias = df.drop(columns = drop_columns)\n",
    "    \n",
    "    #ROWS\n",
    "    azdias_rows_1 = new_azdias[new_azdias.isna().sum(axis= 1) < 25]\n",
    "    azdias_rows_1 = azdias_rows_1.loc[azdias_rows_1.index]\n",
    "    # select, re-encode, and engineer column values.\n",
    "\n",
    "    for atribute in categorical_variables['attribute'].unique():\n",
    "        if(atribute in azdias_rows_1.columns):\n",
    "            array_values = azdias_rows_1[atribute].unique()\n",
    "            if(len(array_values) == 2):\n",
    "                azdias_rows_1[atribute] = azdias_rows_1[atribute].replace(array_values[0], 0)\n",
    "                azdias_rows_1[atribute] = azdias_rows_1[atribute].replace(array_values[1], 1)\n",
    "            else:\n",
    "                azdias_rows_1 = azdias_rows_1.drop(columns = atribute)\n",
    "    \n",
    "    aux = azdias_rows_1.copy()\n",
    "    aux = aux.reset_index(drop = True)\n",
    "    aux['PRAEGENDE_JUGENDJAHRE_EPOCH'] = -1\n",
    "    for i in range(len(aux.values)):\n",
    "        if(aux.at[i,'PRAEGENDE_JUGENDJAHRE'] in epoch_40):\n",
    "            aux.at[i,'PRAEGENDE_JUGENDJAHRE_EPOCH'] = 0\n",
    "        if(aux.at[i,'PRAEGENDE_JUGENDJAHRE'] in epoch_50):\n",
    "            aux.at[i,'PRAEGENDE_JUGENDJAHRE_EPOCH'] = 1\n",
    "        if(aux.at[i,'PRAEGENDE_JUGENDJAHRE'] in epoch_60):\n",
    "            aux.at[i,'PRAEGENDE_JUGENDJAHRE_EPOCH'] = 2\n",
    "        if(aux.at[i,'PRAEGENDE_JUGENDJAHRE'] in epoch_70):\n",
    "            aux.at[i,'PRAEGENDE_JUGENDJAHRE_EPOCH'] = 3\n",
    "        if(aux.at[i,'PRAEGENDE_JUGENDJAHRE'] in epoch_80):\n",
    "            aux.at[i,'PRAEGENDE_JUGENDJAHRE_EPOCH'] = 4\n",
    "        if(aux.at[i,'PRAEGENDE_JUGENDJAHRE'] in epoch_90):\n",
    "            aux.at[i,'PRAEGENDE_JUGENDJAHRE_EPOCH'] = 5\n",
    "    aux.drop(aux[aux['PRAEGENDE_JUGENDJAHRE_EPOCH'] == -1].index, inplace = True)\n",
    "    aux = aux.reset_index(drop = True)       \n",
    "    aux['PRAEGENDE_JUGENDJAHRE_MOVEMENT'] = -1\n",
    "    for i in range(len(aux.values)):\n",
    "        if(aux.at[i,'PRAEGENDE_JUGENDJAHRE'] in mainstream):\n",
    "            aux.at[i,'PRAEGENDE_JUGENDJAHRE_MOVEMENT'] = 0\n",
    "        if(aux.at[i,'PRAEGENDE_JUGENDJAHRE'] in avantgarde):\n",
    "            aux.at[i,'PRAEGENDE_JUGENDJAHRE_MOVEMENT'] = 1\n",
    "    aux.drop(aux[aux['PRAEGENDE_JUGENDJAHRE_MOVEMENT'] == -1].index, inplace = True)\n",
    "    aux = aux.reset_index(drop = True)    \n",
    "    aux['CAMEO_INTL_2015_WEALTH'] = -1\n",
    "    aux['CAMEO_INTL_2015'] = pd.to_numeric(aux['CAMEO_INTL_2015'])\n",
    "    for i in range(len(aux.values)):\n",
    "        if(~ np.isnan(aux.at[i,'CAMEO_INTL_2015'])):\n",
    "            value = int(aux.at[i,'CAMEO_INTL_2015'])\n",
    "            if(int(value / 10) == 1):\n",
    "                aux.at[i, 'CAMEO_INTL_2015_WEALTH'] = 0\n",
    "            if(int(value/ 10) == 2):\n",
    "                aux.at[i, 'CAMEO_INTL_2015_WEALTH'] = 1\n",
    "            if(int(value / 10) == 3):\n",
    "                aux.at[i, 'CAMEO_INTL_2015_WEALTH'] = 2\n",
    "            if(int(value/ 10) == 4):\n",
    "                aux.at[i, 'CAMEO_INTL_2015_WEALTH'] = 3\n",
    "            if(int(value / 10) == 5):\n",
    "                aux.at[i, 'CAMEO_INTL_2015_WEALTH'] = 4\n",
    "    aux.drop(aux[aux['CAMEO_INTL_2015_WEALTH'] == -1].index, inplace = True)\n",
    "    aux = aux.reset_index(drop = True)        \n",
    "    aux['CAMEO_INTL_2015_LIFESTAGE'] = -1        \n",
    "    for i in range(len(aux.values)):\n",
    "        if(aux.at[i,'CAMEO_INTL_2015'] != 'XX'):\n",
    "            if(aux.at[i,'CAMEO_INTL_2015'] % 6 == 1):\n",
    "                aux.at[i, 'CAMEO_INTL_2015_LIFESTAGE'] = 0\n",
    "            if(aux.at[i,'CAMEO_INTL_2015'] % 6 == 2):\n",
    "                aux.at[i, 'CAMEO_INTL_2015_LIFESTAGE'] = 1\n",
    "            if(aux.at[i,'CAMEO_INTL_2015'] % 6 == 3):\n",
    "                aux.at[i, 'CAMEO_INTL_2015_LIFESTAGE'] = 2\n",
    "            if(aux.at[i,'CAMEO_INTL_2015']  % 6 == 4):\n",
    "                aux.at[i, 'CAMEO_INTL_2015_LIFESTAGE'] = 3\n",
    "            if(aux.at[i,'CAMEO_INTL_2015']  % 6 == 5):\n",
    "                aux.at[i, 'CAMEO_INTL_2015_LIFESTAGE'] = 4\n",
    "    aux.drop(aux[aux['CAMEO_INTL_2015_LIFESTAGE'] == -1].index, inplace = True)\n",
    "    \n",
    "    aux.drop(columns = ['PRAEGENDE_JUGENDJAHRE','CAMEO_INTL_2015'], inplace = True)\n",
    "        # Return the cleaned dataframe.\n",
    "    return aux\n",
    "    "
   ]
  },
  {
   "cell_type": "markdown",
   "metadata": {},
   "source": [
    "## Step 2: Feature Transformation\n",
    "\n",
    "### Step 2.1: Apply Feature Scaling\n",
    "\n",
    "Before we apply dimensionality reduction techniques to the data, we need to perform feature scaling so that the principal component vectors are not influenced by the natural differences in scale for features. Starting from this part of the project, you'll want to keep an eye on the [API reference page for sklearn](http://scikit-learn.org/stable/modules/classes.html) to help you navigate to all of the classes and functions that you'll need. In this substep, you'll need to check the following:\n",
    "\n",
    "- sklearn requires that data not have missing values in order for its estimators to work properly. So, before applying the scaler to your data, make sure that you've cleaned the DataFrame of the remaining missing values. This can be as simple as just removing all data points with missing data, or applying an [Imputer](https://scikit-learn.org/0.16/modules/generated/sklearn.preprocessing.Imputer.html) to replace all missing values. You might also try a more complicated procedure where you temporarily remove missing values in order to compute the scaling parameters before re-introducing those missing values and applying imputation. Think about how much missing data you have and what possible effects each approach might have on your analysis, and justify your decision in the discussion section below.\n",
    "- For the actual scaling function, a [StandardScaler](http://scikit-learn.org/stable/modules/generated/sklearn.preprocessing.StandardScaler.html) instance is suggested, scaling each feature to mean 0 and standard deviation 1.\n",
    "- For these classes, you can make use of the `.fit_transform()` method to both fit a procedure to the data as well as apply the transformation to the data at the same time. Don't forget to keep the fit sklearn objects handy, since you'll be applying them to the customer demographics data towards the end of the project."
   ]
  },
  {
   "cell_type": "code",
   "execution_count": 33,
   "metadata": {},
   "outputs": [],
   "source": [
    "# If you've not yet cleaned the dataset of all NaN values, then investigate and\n",
    "# do that now.\n",
    "from sklearn.preprocessing import Imputer\n",
    "\n",
    "imputer = Imputer(strategy = 'most_frequent')\n",
    "imputer_azdias = imputer.fit_transform(aux_azdias)\n",
    "imputer_azdias_df = pd.DataFrame(imputer_azdias, columns = aux_azdias.columns)"
   ]
  },
  {
   "cell_type": "code",
   "execution_count": 34,
   "metadata": {},
   "outputs": [
    {
     "name": "stdout",
     "output_type": "stream",
     "text": [
      "0\n"
     ]
    }
   ],
   "source": [
    "print(imputer_azdias_df.isnull().sum().sum())"
   ]
  },
  {
   "cell_type": "code",
   "execution_count": 35,
   "metadata": {},
   "outputs": [],
   "source": [
    "# Apply feature scaling to the general population demographics data.\n",
    "from sklearn.preprocessing import StandardScaler\n",
    "\n",
    "scaler = StandardScaler()\n",
    "scaler_azdias = scaler.fit_transform(imputer_azdias_df)\n",
    "scaler_azdias_df = pd.DataFrame(scaler_azdias, columns = imputer_azdias_df.columns)\n"
   ]
  },
  {
   "cell_type": "markdown",
   "metadata": {},
   "source": [
    "### Discussion 2.1: Apply Feature Scaling\n",
    "\n",
    "I needed to use imputer in order to replace the nan values, I decided to use the strategy most_frequent and as the clustering needs calculate distance, we need that every features have the same scale, so I decided to use standardscaler in order to obtain a feature with mean = 0 and std = 1"
   ]
  },
  {
   "cell_type": "markdown",
   "metadata": {},
   "source": [
    "### Step 2.2: Perform Dimensionality Reduction\n",
    "\n",
    "On your scaled data, you are now ready to apply dimensionality reduction techniques.\n",
    "\n",
    "- Use sklearn's [PCA](http://scikit-learn.org/stable/modules/generated/sklearn.decomposition.PCA.html) class to apply principal component analysis on the data, thus finding the vectors of maximal variance in the data. To start, you should not set any parameters (so all components are computed) or set a number of components that is at least half the number of features (so there's enough features to see the general trend in variability).\n",
    "- Check out the ratio of variance explained by each principal component as well as the cumulative variance explained. Try plotting the cumulative or sequential values using matplotlib's [`plot()`](https://matplotlib.org/api/_as_gen/matplotlib.pyplot.plot.html) function. Based on what you find, select a value for the number of transformed features you'll retain for the clustering part of the project.\n",
    "- Once you've made a choice for the number of components to keep, make sure you re-fit a PCA instance to perform the decided-on transformation."
   ]
  },
  {
   "cell_type": "code",
   "execution_count": 36,
   "metadata": {},
   "outputs": [],
   "source": [
    "# Apply PCA to the data.\n",
    "from sklearn.decomposition import PCA\n",
    "\n",
    "#n_components = scaler_azias_df.shape[1]\n",
    "pca = PCA()\n",
    "pca = pca.fit(scaler_azdias_df)\n"
   ]
  },
  {
   "cell_type": "code",
   "execution_count": 37,
   "metadata": {},
   "outputs": [
    {
     "data": {
      "text/plain": [
       "<Container object of 67 artists>"
      ]
     },
     "execution_count": 37,
     "metadata": {},
     "output_type": "execute_result"
    },
    {
     "data": {
      "image/png": "[encoded data removed]",
      "text/plain": [
       "<matplotlib.figure.Figure at 0x7fe64b949e48>"
      ]
     },
     "metadata": {
      "needs_background": "light"
     },
     "output_type": "display_data"
    }
   ],
   "source": [
    "# Investigate the variance accounted for by each principal component.\n",
    "\n",
    "components = np.arange(len(scaler_azdias_df.columns))\n",
    "\n",
    "plt.bar(components, pca.explained_variance_ratio_)\n"
   ]
  },
  {
   "cell_type": "code",
   "execution_count": 38,
   "metadata": {},
   "outputs": [],
   "source": [
    "new_pca = PCA(n_components = 35)"
   ]
  },
  {
   "cell_type": "code",
   "execution_count": 39,
   "metadata": {},
   "outputs": [],
   "source": [
    "new_pca = new_pca.fit(scaler_azdias_df)"
   ]
  },
  {
   "cell_type": "code",
   "execution_count": 40,
   "metadata": {},
   "outputs": [
    {
     "name": "stdout",
     "output_type": "stream",
     "text": [
      "0.914864329871\n"
     ]
    }
   ],
   "source": [
    "print(sum(new_pca.explained_variance_ratio_))"
   ]
  },
  {
   "cell_type": "code",
   "execution_count": 41,
   "metadata": {},
   "outputs": [],
   "source": [
    "# Re-apply PCA to the data while selecting for number of components to retain.\n",
    "\n",
    "azdias_pca = new_pca.transform(scaler_azdias_df)"
   ]
  },
  {
   "cell_type": "markdown",
   "metadata": {},
   "source": [
    "### Discussion 2.2: Perform Dimensionality Reduction\n",
    "\n",
    "I kept 35 features, this was done after checking the plot of variance_ratio in which over 35 is almost constant the variance_ratio The new features explained 91.7% of the old features"
   ]
  },
  {
   "cell_type": "markdown",
   "metadata": {},
   "source": [
    "### Step 2.3: Interpret Principal Components\n",
    "\n",
    "Now that we have our transformed principal components, it's a nice idea to check out the weight of each variable on the first few components to see if they can be interpreted in some fashion.\n",
    "\n",
    "As a reminder, each principal component is a unit vector that points in the direction of highest variance (after accounting for the variance captured by earlier principal components). The further a weight is from zero, the more the principal component is in the direction of the corresponding feature. If two features have large weights of the same sign (both positive or both negative), then increases in one tend expect to be associated with increases in the other. To contrast, features with different signs can be expected to show a negative correlation: increases in one variable should result in a decrease in the other.\n",
    "\n",
    "- To investigate the features, you should map each weight to their corresponding feature name, then sort the features according to weight. The most interesting features for each principal component, then, will be those at the beginning and end of the sorted list. Use the data dictionary document to help you understand these most prominent features, their relationships, and what a positive or negative value on the principal component might indicate.\n",
    "- You should investigate and interpret feature associations from the first three principal components in this substep. To help facilitate this, you should write a function that you can call at any time to print the sorted list of feature weights, for the *i*-th principal component. This might come in handy in the next step of the project, when you interpret the tendencies of the discovered clusters."
   ]
  },
  {
   "cell_type": "code",
   "execution_count": 42,
   "metadata": {},
   "outputs": [],
   "source": [
    "# Map weights for the first principal component to corresponding feature names\n",
    "# and then print the linked values, sorted by weight.\n",
    "# HINT: Try defining a function here or in a new cell that you can reuse in the\n",
    "# other cells.\n",
    "\n",
    "def feature_weights(pca, df, component):\n",
    "    dict_component = {}\n",
    "    for (i,column) in enumerate(df.columns):\n",
    "        dict_component[column] = pca.components_[component][i]\n",
    "    dict_component_sorted = sorted(dict_component.items(), key=lambda x: x[1], reverse=True)\n",
    "    return dict_component_sorted\n",
    "    \n",
    "\n"
   ]
  },
  {
   "cell_type": "code",
   "execution_count": 43,
   "metadata": {},
   "outputs": [
    {
     "data": {
      "text/plain": [
       "[('PLZ8_ANTG3', 0.21367530087996356),\n",
       " ('PLZ8_ANTG4', 0.20727776745166659),\n",
       " ('PLZ8_BAUMAX', 0.20394222006560145),\n",
       " ('HH_EINKOMMEN_SCORE', 0.19453768517418732),\n",
       " ('CAMEO_INTL_2015_WEALTH', 0.19023604014058354),\n",
       " ('ORTSGR_KLS9', 0.18768454594878595),\n",
       " ('EWDICHTE', 0.18458935993810263),\n",
       " ('FINANZ_SPARER', 0.15376731946587863),\n",
       " ('FINANZ_HAUSBAUER', 0.1470515793044582),\n",
       " ('KBA05_ANTG4', 0.14405609301941646),\n",
       " ('PLZ8_ANTG2', 0.14122809473625053),\n",
       " ('ARBEIT', 0.1346832473845502),\n",
       " ('KBA05_ANTG3', 0.12547564563003913),\n",
       " ('RELAT_AB', 0.12481392143789807),\n",
       " ('ANZ_HAUSHALTE_AKTIV', 0.12361773294530562),\n",
       " ('SEMIO_PFLICHT', 0.11712086303912356),\n",
       " ('SEMIO_REL', 0.11558733149852625),\n",
       " ('PRAEGENDE_JUGENDJAHRE_EPOCH', 0.11499909567150293),\n",
       " ('SEMIO_TRADV', 0.098671709058567952),\n",
       " ('SEMIO_RAT', 0.098605647988624173),\n",
       " ('FINANZ_UNAUFFAELLIGER', 0.087438596920818623),\n",
       " ('SEMIO_MAT', 0.080527653089566664),\n",
       " ('SEMIO_FAM', 0.080310907560284778),\n",
       " ('SEMIO_KULT', 0.077448318357621088),\n",
       " ('FINANZ_ANLEGER', 0.074134716766842745),\n",
       " ('REGIOTYP', 0.059425252385115611),\n",
       " ('CAMEO_INTL_2015_LIFESTAGE', 0.057157491612148524),\n",
       " ('OST_WEST_KZ', 0.050823026843429146),\n",
       " ('SEMIO_SOZ', 0.046486174044604311),\n",
       " ('PLZ8_HHZ', 0.042346046067583208),\n",
       " ('HEALTH_TYP', 0.038349418469287057),\n",
       " ('W_KEIT_KIND_HH', 0.037734238475592083),\n",
       " ('KKK', 0.037689842939760937),\n",
       " ('SEMIO_KAEM', 0.034245986820707834),\n",
       " ('ANZ_HH_TITEL', 0.029861327916294637),\n",
       " ('SEMIO_DOM', 0.023902865851643272),\n",
       " ('KBA05_ANTG2', 0.0086570197120374257),\n",
       " ('SEMIO_KRIT', 0.0031642055819015988),\n",
       " ('SOHO_KZ', -0.0),\n",
       " ('ANREDE_KZ', -0.0040386880311906875),\n",
       " ('ANZ_TITEL', -0.0062881605859784456),\n",
       " ('RETOURTYP_BK_S', -0.031491906604317707),\n",
       " ('SEMIO_VERT', -0.035484584783014333),\n",
       " ('ONLINE_AFFINITAET', -0.035671358483660043),\n",
       " ('MIN_GEBAEUDEJAHR', -0.042950459625385774),\n",
       " ('WOHNDAUER_2008', -0.064578345872702586),\n",
       " ('KBA13_ANZAHL_PKW', -0.073171665148180132),\n",
       " ('WOHNLAGE', -0.078420929100198128),\n",
       " ('SEMIO_LUST', -0.084783252533372058),\n",
       " ('SEMIO_ERL', -0.086268488717502922),\n",
       " ('ANZ_PERSONEN', -0.087903217519282886),\n",
       " ('PRAEGENDE_JUGENDJAHRE_MOVEMENT', -0.11345239930134693),\n",
       " ('GREEN_AVANTGARDE', -0.11345239930134694),\n",
       " ('GEBAEUDETYP_RASTER', -0.11412219279790214),\n",
       " ('BALLRAUM', -0.12147983574707959),\n",
       " ('LP_LEBENSPHASE_GROB', -0.12571597681326652),\n",
       " ('FINANZ_VORSORGER', -0.12614141423121539),\n",
       " ('ALTERSKATEGORIE_GROB', -0.1310047629930744),\n",
       " ('LP_LEBENSPHASE_FEIN', -0.14007178727781047),\n",
       " ('INNENSTADT', -0.15724453543657987),\n",
       " ('PLZ8_GBZ', -0.16028999922945053),\n",
       " ('KONSUMNAEHE', -0.1604720701647874),\n",
       " ('KBA05_GBZ', -0.20370985170537459),\n",
       " ('KBA05_ANTG1', -0.20464457934322783),\n",
       " ('MOBI_REGIO', -0.21453864993776228),\n",
       " ('FINANZ_MINIMALIST', -0.2149427063096403),\n",
       " ('PLZ8_ANTG1', -0.21513580725663051)]"
      ]
     },
     "execution_count": 43,
     "metadata": {},
     "output_type": "execute_result"
    }
   ],
   "source": [
    "feature_weights(new_pca, scaler_azdias_df, 0)"
   ]
  },
  {
   "cell_type": "code",
   "execution_count": 44,
   "metadata": {},
   "outputs": [
    {
     "data": {
      "text/plain": [
       "[('ALTERSKATEGORIE_GROB', 0.24936802577105183),\n",
       " ('FINANZ_VORSORGER', 0.22585483128042991),\n",
       " ('SEMIO_ERL', 0.21559104886047759),\n",
       " ('SEMIO_LUST', 0.1829623837405204),\n",
       " ('RETOURTYP_BK_S', 0.16532790915305054),\n",
       " ('EWDICHTE', 0.12081685216881288),\n",
       " ('ORTSGR_KLS9', 0.11935971390153803),\n",
       " ('W_KEIT_KIND_HH', 0.11854577436364216),\n",
       " ('FINANZ_HAUSBAUER', 0.11737102407375713),\n",
       " ('PLZ8_ANTG3', 0.10695721732469739),\n",
       " ('PLZ8_ANTG4', 0.10326714743363982),\n",
       " ('SEMIO_KRIT', 0.10260886869809539),\n",
       " ('SEMIO_KAEM', 0.10133084837434667),\n",
       " ('PLZ8_BAUMAX', 0.097450087729740856),\n",
       " ('RELAT_AB', 0.077256528821543283),\n",
       " ('PLZ8_ANTG2', 0.076220111261347465),\n",
       " ('ARBEIT', 0.075866893327236049),\n",
       " ('KBA05_ANTG4', 0.0681575158215246),\n",
       " ('SEMIO_DOM', 0.063375122878144258),\n",
       " ('FINANZ_MINIMALIST', 0.062379661926518032),\n",
       " ('CAMEO_INTL_2015_WEALTH', 0.061131774480199921),\n",
       " ('WOHNDAUER_2008', 0.061058545285142651),\n",
       " ('ANZ_HAUSHALTE_AKTIV', 0.06044925823019847),\n",
       " ('GREEN_AVANTGARDE', 0.046738883549777482),\n",
       " ('PRAEGENDE_JUGENDJAHRE_MOVEMENT', 0.046738883549777482),\n",
       " ('KBA05_ANTG3', 0.044384724182383324),\n",
       " ('ANZ_HH_TITEL', 0.035242865987103598),\n",
       " ('HH_EINKOMMEN_SCORE', 0.033383203176495457),\n",
       " ('PLZ8_HHZ', 0.025726397761056657),\n",
       " ('OST_WEST_KZ', 0.013711418773217512),\n",
       " ('ANZ_TITEL', 0.011006992642978834),\n",
       " ('SOHO_KZ', 0.0),\n",
       " ('KBA05_ANTG2', -0.0011369625544190966),\n",
       " ('CAMEO_INTL_2015_LIFESTAGE', -0.0056535757723042042),\n",
       " ('REGIOTYP', -0.0087386198609328541),\n",
       " ('KKK', -0.027975351638253522),\n",
       " ('KBA13_ANZAHL_PKW', -0.038408763773628889),\n",
       " ('LP_LEBENSPHASE_FEIN', -0.039236565803578899),\n",
       " ('LP_LEBENSPHASE_GROB', -0.044705460160870528),\n",
       " ('GEBAEUDETYP_RASTER', -0.054107366478212404),\n",
       " ('MIN_GEBAEUDEJAHR', -0.057612403394915766),\n",
       " ('ANZ_PERSONEN', -0.059173465011123964),\n",
       " ('SEMIO_VERT', -0.059194140457739602),\n",
       " ('HEALTH_TYP', -0.060625907214055683),\n",
       " ('KBA05_ANTG1', -0.063020378974395497),\n",
       " ('MOBI_REGIO', -0.072843346451083341),\n",
       " ('PLZ8_GBZ', -0.07546452033786874),\n",
       " ('ANREDE_KZ', -0.078068397931352673),\n",
       " ('BALLRAUM', -0.082819328554758584),\n",
       " ('WOHNLAGE', -0.083752072588978543),\n",
       " ('SEMIO_SOZ', -0.084506101903012845),\n",
       " ('KBA05_GBZ', -0.085161475450075394),\n",
       " ('KONSUMNAEHE', -0.087100984660971173),\n",
       " ('INNENSTADT', -0.097399496274701111),\n",
       " ('PLZ8_ANTG1', -0.099828132197816125),\n",
       " ('SEMIO_MAT', -0.15547086759055428),\n",
       " ('ONLINE_AFFINITAET', -0.15879506217146916),\n",
       " ('SEMIO_FAM', -0.16987891037555072),\n",
       " ('SEMIO_RAT', -0.17107081975538707),\n",
       " ('SEMIO_KULT', -0.2089868529714945),\n",
       " ('FINANZ_ANLEGER', -0.21439031133809849),\n",
       " ('FINANZ_UNAUFFAELLIGER', -0.21808157843855147),\n",
       " ('SEMIO_PFLICHT', -0.22375552947500196),\n",
       " ('SEMIO_TRADV', -0.2260760233678486),\n",
       " ('FINANZ_SPARER', -0.2295341357816959),\n",
       " ('PRAEGENDE_JUGENDJAHRE_EPOCH', -0.24519164271321264),\n",
       " ('SEMIO_REL', -0.24834835304507372)]"
      ]
     },
     "execution_count": 44,
     "metadata": {},
     "output_type": "execute_result"
    }
   ],
   "source": [
    "# Map weights for the second principal component to corresponding feature names\n",
    "# and then print the linked values, sorted by weight.\n",
    "\n",
    "feature_weights(new_pca, scaler_azdias_df, 1)"
   ]
  },
  {
   "cell_type": "code",
   "execution_count": 45,
   "metadata": {},
   "outputs": [
    {
     "data": {
      "text/plain": [
       "[('ANREDE_KZ', 0.37094340805793413),\n",
       " ('SEMIO_VERT', 0.34676650004545573),\n",
       " ('SEMIO_SOZ', 0.26327505675585289),\n",
       " ('SEMIO_FAM', 0.26074258715278792),\n",
       " ('SEMIO_KULT', 0.24483973419754834),\n",
       " ('FINANZ_MINIMALIST', 0.15322585402247016),\n",
       " ('RETOURTYP_BK_S', 0.11093204037283683),\n",
       " ('SEMIO_REL', 0.088392732985915212),\n",
       " ('FINANZ_VORSORGER', 0.086923058772353123),\n",
       " ('W_KEIT_KIND_HH', 0.077911053600320399),\n",
       " ('SEMIO_MAT', 0.07408787332271792),\n",
       " ('ALTERSKATEGORIE_GROB', 0.069360780137972894),\n",
       " ('GREEN_AVANTGARDE', 0.064267871038732188),\n",
       " ('PRAEGENDE_JUGENDJAHRE_MOVEMENT', 0.064267871038732161),\n",
       " ('SEMIO_LUST', 0.061221960168253348),\n",
       " ('ORTSGR_KLS9', 0.048651070787604334),\n",
       " ('EWDICHTE', 0.048284509405428513),\n",
       " ('PLZ8_BAUMAX', 0.045113080856084641),\n",
       " ('PLZ8_ANTG4', 0.043560331722215101),\n",
       " ('PLZ8_ANTG3', 0.041690103346037892),\n",
       " ('WOHNDAUER_2008', 0.033375675290693463),\n",
       " ('ARBEIT', 0.032474214556151008),\n",
       " ('RELAT_AB', 0.029809893015071663),\n",
       " ('PLZ8_ANTG2', 0.02692237728615425),\n",
       " ('KBA05_ANTG4', 0.02429832063744557),\n",
       " ('ANZ_HAUSHALTE_AKTIV', 0.021562040718159647),\n",
       " ('CAMEO_INTL_2015_WEALTH', 0.016419147072294381),\n",
       " ('ANZ_TITEL', 0.013464385338318592),\n",
       " ('ANZ_HH_TITEL', 0.012779786754890549),\n",
       " ('OST_WEST_KZ', 0.012278624890010793),\n",
       " ('PLZ8_HHZ', 0.0074749189318221009),\n",
       " ('KBA05_ANTG3', 0.0041983604209016858),\n",
       " ('LP_LEBENSPHASE_FEIN', 0.0032277777843861938),\n",
       " ('LP_LEBENSPHASE_GROB', 0.00083233750665157166),\n",
       " ('CAMEO_INTL_2015_LIFESTAGE', 0.00060505438192518652),\n",
       " ('SOHO_KZ', 0.0),\n",
       " ('ANZ_PERSONEN', -0.0028829992011718242),\n",
       " ('KBA05_ANTG2', -0.0088317999983214927),\n",
       " ('HEALTH_TYP', -0.0089771750266440693),\n",
       " ('KBA05_ANTG1', -0.01211313652149287),\n",
       " ('REGIOTYP', -0.014869828298340835),\n",
       " ('MIN_GEBAEUDEJAHR', -0.016436683738851016),\n",
       " ('MOBI_REGIO', -0.018135583504655821),\n",
       " ('KBA05_GBZ', -0.020010686569193289),\n",
       " ('KBA13_ANZAHL_PKW', -0.020905142352733844),\n",
       " ('KKK', -0.023559845231250914),\n",
       " ('WOHNLAGE', -0.02702561332017378),\n",
       " ('GEBAEUDETYP_RASTER', -0.029991955184415605),\n",
       " ('HH_EINKOMMEN_SCORE', -0.030997389192010533),\n",
       " ('PLZ8_GBZ', -0.034178754728040654),\n",
       " ('KONSUMNAEHE', -0.037477543536697001),\n",
       " ('BALLRAUM', -0.03758681758597851),\n",
       " ('PLZ8_ANTG1', -0.041415775766916324),\n",
       " ('INNENSTADT', -0.044161922831647507),\n",
       " ('ONLINE_AFFINITAET', -0.048057203089821435),\n",
       " ('FINANZ_HAUSBAUER', -0.050723104868839533),\n",
       " ('SEMIO_PFLICHT', -0.062083449909495603),\n",
       " ('SEMIO_TRADV', -0.067240025758382393),\n",
       " ('FINANZ_UNAUFFAELLIGER', -0.086246466173982517),\n",
       " ('FINANZ_SPARER', -0.09113572747858345),\n",
       " ('PRAEGENDE_JUGENDJAHRE_EPOCH', -0.095886281629626896),\n",
       " ('FINANZ_ANLEGER', -0.18056624210124578),\n",
       " ('SEMIO_ERL', -0.19277856388934902),\n",
       " ('SEMIO_RAT', -0.20212963009774662),\n",
       " ('SEMIO_KRIT', -0.27654031228427423),\n",
       " ('SEMIO_DOM', -0.30923039092304017),\n",
       " ('SEMIO_KAEM', -0.34004757262129681)]"
      ]
     },
     "execution_count": 45,
     "metadata": {},
     "output_type": "execute_result"
    }
   ],
   "source": [
    "# Map weights for the third principal component to corresponding feature names\n",
    "# and then print the linked values, sorted by weight.\n",
    "feature_weights(new_pca, scaler_azdias_df, 2)\n"
   ]
  },
  {
   "cell_type": "markdown",
   "metadata": {},
   "source": [
    "### Discussion 2.3: Interpret Principal Components\n",
    "\n",
    "From the list above we can see how is the correlation between the first three  componentes with each features for each component. The greater the value (positive) the greater the correlation and for negative values we have an inverse correlation."
   ]
  },
  {
   "cell_type": "markdown",
   "metadata": {},
   "source": [
    "## Step 3: Clustering\n",
    "\n",
    "### Step 3.1: Apply Clustering to General Population\n",
    "\n",
    "You've assessed and cleaned the demographics data, then scaled and transformed them. Now, it's time to see how the data clusters in the principal components space. In this substep, you will apply k-means clustering to the dataset and use the average within-cluster distances from each point to their assigned cluster's centroid to decide on a number of clusters to keep.\n",
    "\n",
    "- Use sklearn's [KMeans](http://scikit-learn.org/stable/modules/generated/sklearn.cluster.KMeans.html#sklearn.cluster.KMeans) class to perform k-means clustering on the PCA-transformed data.\n",
    "- Then, compute the average difference from each point to its assigned cluster's center. **Hint**: The KMeans object's `.score()` method might be useful here, but note that in sklearn, scores tend to be defined so that larger is better. Try applying it to a small, toy dataset, or use an internet search to help your understanding.\n",
    "- Perform the above two steps for a number of different cluster counts. You can then see how the average distance decreases with an increasing number of clusters. However, each additional cluster provides a smaller net benefit. Use this fact to select a final number of clusters in which to group the data. **Warning**: because of the large size of the dataset, it can take a long time for the algorithm to resolve. The more clusters to fit, the longer the algorithm will take. You should test for cluster counts through at least 10 clusters to get the full picture, but you shouldn't need to test for a number of clusters above about 30.\n",
    "- Once you've selected a final number of clusters to use, re-fit a KMeans instance to perform the clustering operation. Make sure that you also obtain the cluster assignments for the general demographics data, since you'll be using them in the final Step 3.3."
   ]
  },
  {
   "cell_type": "code",
   "execution_count": 46,
   "metadata": {},
   "outputs": [
    {
     "name": "stdout",
     "output_type": "stream",
     "text": [
      "1\n",
      "2\n",
      "3\n",
      "4\n",
      "5\n",
      "6\n",
      "7\n",
      "8\n",
      "9\n",
      "10\n",
      "11\n",
      "12\n",
      "13\n",
      "14\n"
     ]
    }
   ],
   "source": [
    "from sklearn.cluster import KMeans\n",
    "# Over a number of different cluster counts...\n",
    "\n",
    "scores = []\n",
    "for i in range(1, 15):\n",
    "    kmeans = KMeans(n_clusters = i)\n",
    "     \n",
    "    # run k-means clustering on the data and...\n",
    "    kmeans.fit(azdias_pca)    \n",
    "    \n",
    "    # compute the average within-cluster distances.\n",
    "    scores.append(kmeans.score(azdias_pca))\n",
    "    print(i)\n",
    "    "
   ]
  },
  {
   "cell_type": "code",
   "execution_count": 53,
   "metadata": {},
   "outputs": [
    {
     "data": {
      "text/plain": [
       "[<matplotlib.lines.Line2D at 0x7fe635c77390>]"
      ]
     },
     "execution_count": 53,
     "metadata": {},
     "output_type": "execute_result"
    },
    {
     "data": {
      "image/png": "[encoded data removed]",
      "text/plain": [
       "<matplotlib.figure.Figure at 0x7fe635d6deb8>"
      ]
     },
     "metadata": {
      "needs_background": "light"
     },
     "output_type": "display_data"
    }
   ],
   "source": [
    "# Investigate the change in within-cluster distance across number of clusters.\n",
    "# HINT: Use matplotlib's plot function to visualize this relationship.\n",
    "\n",
    "plt.plot(np.arange(2, 15), np.abs(scores[1:]), marker = 'o')"
   ]
  },
  {
   "cell_type": "code",
   "execution_count": 54,
   "metadata": {},
   "outputs": [],
   "source": [
    "# Re-fit the k-means model with the selected number of clusters and obtain\n",
    "# cluster predictions for the general population demographics data.\n",
    "\n",
    "new_kmeans = KMeans(n_clusters = 11)\n",
    "new_kmeans.fit(azdias_pca)\n",
    "general_predictions = new_kmeans.predict(azdias_pca)"
   ]
  },
  {
   "cell_type": "markdown",
   "metadata": {},
   "source": [
    "### Discussion 3.1: Apply Clustering to General Population\n",
    "\n",
    "After checking elbow test I decided in 11 clusters. I can see that there is a clear decrease in score in this number"
   ]
  },
  {
   "cell_type": "markdown",
   "metadata": {},
   "source": [
    "### Step 3.2: Apply All Steps to the Customer Data\n",
    "\n",
    "Now that you have clusters and cluster centers for the general population, it's time to see how the customer data maps on to those clusters. Take care to not confuse this for re-fitting all of the models to the customer data. Instead, you're going to use the fits from the general population to clean, transform, and cluster the customer data. In the last step of the project, you will interpret how the general population fits apply to the customer data.\n",
    "\n",
    "- Don't forget when loading in the customers data, that it is semicolon (`;`) delimited.\n",
    "- Apply the same feature wrangling, selection, and engineering steps to the customer demographics using the `clean_data()` function you created earlier. (You can assume that the customer demographics data has similar meaning behind missing data patterns as the general demographics data.)\n",
    "- Use the sklearn objects from the general demographics data, and apply their transformations to the customers data. That is, you should not be using a `.fit()` or `.fit_transform()` method to re-fit the old objects, nor should you be creating new sklearn objects! Carry the data through the feature scaling, PCA, and clustering steps, obtaining cluster assignments for all of the data in the customer demographics data."
   ]
  },
  {
   "cell_type": "code",
   "execution_count": 55,
   "metadata": {},
   "outputs": [],
   "source": [
    "# Load in the customer demographics data.\n",
    "customers = pd.read_csv('Udacity_CUSTOMERS_Subset.csv', delimiter = ';')"
   ]
  },
  {
   "cell_type": "code",
   "execution_count": 56,
   "metadata": {},
   "outputs": [],
   "source": [
    "# Apply preprocessing, feature transformation, and clustering from the general\n",
    "# demographics onto the customer data, obtaining cluster predictions for the\n",
    "# customer demographics data.\n",
    "\n",
    "customer_cleaned = clean_data(customers)\n",
    "\n",
    "customer_imputer = imputer.transform(customer_cleaned)\n",
    "\n",
    "customers_scaler = scaler.transform(customer_imputer)\n",
    "\n",
    "customers_pca = new_pca.transform(customers_scaler)\n",
    "\n",
    "customers_prediction = new_kmeans.predict(customers_pca)"
   ]
  },
  {
   "cell_type": "markdown",
   "metadata": {},
   "source": [
    "### Step 3.3: Compare Customer Data to Demographics Data\n",
    "\n",
    "At this point, you have clustered data based on demographics of the general population of Germany, and seen how the customer data for a mail-order sales company maps onto those demographic clusters. In this final substep, you will compare the two cluster distributions to see where the strongest customer base for the company is.\n",
    "\n",
    "Consider the proportion of persons in each cluster for the general population, and the proportions for the customers. If we think the company's customer base to be universal, then the cluster assignment proportions should be fairly similar between the two. If there are only particular segments of the population that are interested in the company's products, then we should see a mismatch from one to the other. If there is a higher proportion of persons in a cluster for the customer data compared to the general population (e.g. 5% of persons are assigned to a cluster for the general population, but 15% of the customer data is closest to that cluster's centroid) then that suggests the people in that cluster to be a target audience for the company. On the other hand, the proportion of the data in a cluster being larger in the general population than the customer data (e.g. only 2% of customers closest to a population centroid that captures 6% of the data) suggests that group of persons to be outside of the target demographics.\n",
    "\n",
    "Take a look at the following points in this step:\n",
    "\n",
    "- Compute the proportion of data points in each cluster for the general population and the customer data. Visualizations will be useful here: both for the individual dataset proportions, but also to visualize the ratios in cluster representation between groups. Seaborn's [`countplot()`](https://seaborn.pydata.org/generated/seaborn.countplot.html) or [`barplot()`](https://seaborn.pydata.org/generated/seaborn.barplot.html) function could be handy.\n",
    "  - Recall the analysis you performed in step 1.1.3 of the project, where you separated out certain data points from the dataset if they had more than a specified threshold of missing values. If you found that this group was qualitatively different from the main bulk of the data, you should treat this as an additional data cluster in this analysis. Make sure that you account for the number of data points in this subset, for both the general population and customer datasets, when making your computations!\n",
    "- Which cluster or clusters are overrepresented in the customer dataset compared to the general population? Select at least one such cluster and infer what kind of people might be represented by that cluster. Use the principal component interpretations from step 2.3 or look at additional components to help you make this inference. Alternatively, you can use the `.inverse_transform()` method of the PCA and StandardScaler objects to transform centroids back to the original data space and interpret the retrieved values directly.\n",
    "- Perform a similar investigation for the underrepresented clusters. Which cluster or clusters are underrepresented in the customer dataset compared to the general population, and what kinds of people are typified by these clusters?"
   ]
  },
  {
   "cell_type": "code",
   "execution_count": 137,
   "metadata": {},
   "outputs": [],
   "source": [
    "gp_df = pd.DataFrame(general_predictions, columns= ['General Predictions'])\n",
    "cp_df = pd.DataFrame(customers_prediction, columns= ['Customer Predictions'])"
   ]
  },
  {
   "cell_type": "code",
   "execution_count": 138,
   "metadata": {},
   "outputs": [],
   "source": [
    "gp = gp_df['General Predictions'].value_counts() / len(gp_df['General Predictions'].values)\n",
    "cp = cp_df['Customer Predictions'].value_counts() / len(cp_df['Customer Predictions'].values)"
   ]
  },
  {
   "cell_type": "code",
   "execution_count": 139,
   "metadata": {},
   "outputs": [],
   "source": [
    "cust = pd.DataFrame(cp)\n",
    "gen = pd.DataFrame(gp)"
   ]
  },
  {
   "cell_type": "code",
   "execution_count": 154,
   "metadata": {},
   "outputs": [
    {
     "data": {
      "image/png": "[encoded data removed]",
      "text/plain": [
       "<matplotlib.figure.Figure at 0x7fe630978cc0>"
      ]
     },
     "metadata": {
      "needs_background": "light"
     },
     "output_type": "display_data"
    },
    {
     "data": {
      "image/png": "[encoded data removed]",
      "text/plain": [
       "<matplotlib.figure.Figure at 0x7fe6308a7710>"
      ]
     },
     "metadata": {
      "needs_background": "light"
     },
     "output_type": "display_data"
    }
   ],
   "source": [
    "# Compare the proportion of data in each cluster for the customer data to the\n",
    "# proportion of data in each cluster for the general population.\n",
    "\n",
    "gen.plot.bar()\n",
    "plt.title('General')\n",
    "plt.ylabel('percentage')\n",
    "plt.xlabel('Clusters')\n",
    "cust.plot.bar()\n",
    "plt.title('Customers')\n",
    "plt.ylabel('percentage')\n",
    "plt.xlabel('Clusters')\n",
    "plt.show()\n",
    "#sns.barplot(customers_prediction)"
   ]
  },
  {
   "cell_type": "code",
   "execution_count": 155,
   "metadata": {},
   "outputs": [
    {
     "data": {
      "text/plain": [
       "ALTERSKATEGORIE_GROB                3.307451\n",
       "ANREDE_KZ                           0.955299\n",
       "FINANZ_MINIMALIST                   4.855811\n",
       "FINANZ_SPARER                       1.546447\n",
       "FINANZ_VORSORGER                    4.309356\n",
       "FINANZ_ANLEGER                      1.387259\n",
       "FINANZ_UNAUFFAELLIGER               2.035689\n",
       "FINANZ_HAUSBAUER                    1.982826\n",
       "GREEN_AVANTGARDE                    0.983278\n",
       "HEALTH_TYP                          2.030150\n",
       "LP_LEBENSPHASE_FEIN                23.539657\n",
       "LP_LEBENSPHASE_GROB                 6.861207\n",
       "RETOURTYP_BK_S                      4.093340\n",
       "SEMIO_SOZ                           4.910737\n",
       "SEMIO_FAM                           4.895081\n",
       "SEMIO_REL                           3.830928\n",
       "SEMIO_MAT                           4.065014\n",
       "SEMIO_VERT                          6.307430\n",
       "SEMIO_LUST                          5.249183\n",
       "SEMIO_ERL                           3.989111\n",
       "SEMIO_KULT                          4.997616\n",
       "SEMIO_RAT                           2.749121\n",
       "SEMIO_KRIT                          3.104038\n",
       "SEMIO_DOM                           3.350014\n",
       "SEMIO_KAEM                          2.586617\n",
       "SEMIO_PFLICHT                       3.255636\n",
       "SEMIO_TRADV                         3.203293\n",
       "SOHO_KZ                             1.000000\n",
       "ANZ_PERSONEN                        2.190088\n",
       "ANZ_TITEL                           0.016777\n",
       "                                     ...    \n",
       "OST_WEST_KZ                         0.122232\n",
       "WOHNLAGE                            3.042955\n",
       "KBA05_ANTG1                         2.614435\n",
       "KBA05_ANTG2                         1.101181\n",
       "KBA05_ANTG3                         0.084267\n",
       "KBA05_ANTG4                         0.010090\n",
       "KBA05_GBZ                           4.034085\n",
       "BALLRAUM                            3.945245\n",
       "EWDICHTE                            4.049861\n",
       "INNENSTADT                          4.599316\n",
       "GEBAEUDETYP_RASTER                  3.939537\n",
       "KKK                                 2.135144\n",
       "MOBI_REGIO                          4.007339\n",
       "ONLINE_AFFINITAET                   3.121765\n",
       "REGIOTYP                            3.480308\n",
       "KBA13_ANZAHL_PKW                  692.961382\n",
       "PLZ8_ANTG1                          2.738068\n",
       "PLZ8_ANTG2                          2.618376\n",
       "PLZ8_ANTG3                          1.237530\n",
       "PLZ8_ANTG4                          0.393193\n",
       "PLZ8_BAUMAX                         1.273214\n",
       "PLZ8_HHZ                            3.679942\n",
       "PLZ8_GBZ                            3.861200\n",
       "ARBEIT                              3.054282\n",
       "ORTSGR_KLS9                         5.508315\n",
       "RELAT_AB                            2.946239\n",
       "PRAEGENDE_JUGENDJAHRE_EPOCH         2.433480\n",
       "PRAEGENDE_JUGENDJAHRE_MOVEMENT      0.983278\n",
       "CAMEO_INTL_2015_WEALTH              1.138051\n",
       "CAMEO_INTL_2015_LIFESTAGE           1.497401\n",
       "Length: 67, dtype: float64"
      ]
     },
     "execution_count": 155,
     "metadata": {},
     "output_type": "execute_result"
    }
   ],
   "source": [
    "# What kinds of people are part of a cluster that is overrepresented in the\n",
    "# customer data compared to the general population?\n",
    "\n",
    "overrepresented = scaler.inverse_transform(new_pca.inverse_transform(new_kmeans.cluster_centers_[9]))\n",
    "pd.Series(data = overrepresented, index = customer_cleaned.columns)"
   ]
  },
  {
   "cell_type": "code",
   "execution_count": 156,
   "metadata": {},
   "outputs": [
    {
     "data": {
      "text/plain": [
       "ALTERSKATEGORIE_GROB                1.809806\n",
       "ANREDE_KZ                           1.047015\n",
       "FINANZ_MINIMALIST                   1.901473\n",
       "FINANZ_SPARER                       4.364317\n",
       "FINANZ_VORSORGER                    2.072916\n",
       "FINANZ_ANLEGER                      3.521974\n",
       "FINANZ_UNAUFFAELLIGER               3.694669\n",
       "FINANZ_HAUSBAUER                    3.601938\n",
       "GREEN_AVANTGARDE                    0.053120\n",
       "HEALTH_TYP                          2.392278\n",
       "LP_LEBENSPHASE_FEIN                 8.380151\n",
       "LP_LEBENSPHASE_GROB                 2.931461\n",
       "RETOURTYP_BK_S                      2.788621\n",
       "SEMIO_SOZ                           6.805421\n",
       "SEMIO_FAM                           6.747538\n",
       "SEMIO_REL                           6.271215\n",
       "SEMIO_MAT                           5.123930\n",
       "SEMIO_VERT                          6.065356\n",
       "SEMIO_LUST                          2.892856\n",
       "SEMIO_ERL                           2.091697\n",
       "SEMIO_KULT                          6.921731\n",
       "SEMIO_RAT                           4.129404\n",
       "SEMIO_KRIT                          2.799480\n",
       "SEMIO_DOM                           2.876532\n",
       "SEMIO_KAEM                          2.454541\n",
       "SEMIO_PFLICHT                       5.664958\n",
       "SEMIO_TRADV                         4.922529\n",
       "SOHO_KZ                             1.000000\n",
       "ANZ_PERSONEN                        1.396745\n",
       "ANZ_TITEL                           0.001391\n",
       "                                     ...    \n",
       "OST_WEST_KZ                         0.340405\n",
       "WOHNLAGE                            3.628520\n",
       "KBA05_ANTG1                         0.299237\n",
       "KBA05_ANTG2                         1.207967\n",
       "KBA05_ANTG3                         1.172666\n",
       "KBA05_ANTG4                         0.656898\n",
       "KBA05_GBZ                           2.105683\n",
       "BALLRAUM                            3.113908\n",
       "EWDICHTE                            5.249453\n",
       "INNENSTADT                          3.099165\n",
       "GEBAEUDETYP_RASTER                  3.334463\n",
       "KKK                                 2.960788\n",
       "MOBI_REGIO                          1.634795\n",
       "ONLINE_AFFINITAET                   2.945052\n",
       "REGIOTYP                            5.151042\n",
       "KBA13_ANZAHL_PKW                  503.147700\n",
       "PLZ8_ANTG1                          1.359755\n",
       "PLZ8_ANTG2                          3.331889\n",
       "PLZ8_ANTG3                          2.497769\n",
       "PLZ8_ANTG4                          1.350447\n",
       "PLZ8_BAUMAX                         3.281504\n",
       "PLZ8_HHZ                            3.745084\n",
       "PLZ8_GBZ                            2.579508\n",
       "ARBEIT                              3.750215\n",
       "ORTSGR_KLS9                         7.081054\n",
       "RELAT_AB                            3.756556\n",
       "PRAEGENDE_JUGENDJAHRE_EPOCH         4.683832\n",
       "PRAEGENDE_JUGENDJAHRE_MOVEMENT      0.053120\n",
       "CAMEO_INTL_2015_WEALTH              3.489206\n",
       "CAMEO_INTL_2015_LIFESTAGE           2.244795\n",
       "Length: 67, dtype: float64"
      ]
     },
     "execution_count": 156,
     "metadata": {},
     "output_type": "execute_result"
    }
   ],
   "source": [
    "# What kinds of people are part of a cluster that is underrepresented in the\n",
    "# customer data compared to the general population?\n",
    "\n",
    "underrepresented = scaler.inverse_transform(new_pca.inverse_transform(new_kmeans.cluster_centers_[2]))\n",
    "pd.Series(data = underrepresented, index = customer_cleaned.columns)"
   ]
  },
  {
   "cell_type": "markdown",
   "metadata": {},
   "source": [
    "### Discussion 3.3: Compare Customer Data to Demographics Data\n",
    "\n",
    "We can see that cluster 9 is overrepresented, so we could target the following people that maybe are interested in company's products:\n",
    "\n",
    "- Age: 46 - 60 years old \n",
    "- Gender: Female\n",
    "- Health type: Sanitary Affine\n",
    "\n",
    "We can see that cluster 2 is underrepresented, so it is not a good idea to target this kind of people:\n",
    "\n",
    "- Age: 30-45 years old \n",
    "- Gender: Femanle\n",
    "- Health type: Sanitary Affine\n",
    "\n"
   ]
  },
  {
   "cell_type": "markdown",
   "metadata": {},
   "source": [
    "> Congratulations on making it this far in the project! Before you finish, make sure to check through the entire notebook from top to bottom to make sure that your analysis follows a logical flow and all of your findings are documented in **Discussion** cells. Once you've checked over all of your work, you should export the notebook as an HTML document to submit for evaluation. You can do this from the menu, navigating to **File -> Download as -> HTML (.html)**. You will submit both that document and this notebook for your project submission."
   ]
  },
  {
   "cell_type": "code",
   "execution_count": null,
   "metadata": {},
   "outputs": [],
   "source": []
  }
 ],
 "metadata": {
  "kernelspec": {
   "display_name": "Python 3",
   "language": "python",
   "name": "python3"
  },
  "language_info": {
   "codemirror_mode": {
    "name": "ipython",
    "version": 3
   },
   "file_extension": ".py",
   "mimetype": "text/x-python",
   "name": "python",
   "nbconvert_exporter": "python",
   "pygments_lexer": "ipython3",
   "version": "3.6.3"
  }
 },
 "nbformat": 4,
 "nbformat_minor": 2
}
